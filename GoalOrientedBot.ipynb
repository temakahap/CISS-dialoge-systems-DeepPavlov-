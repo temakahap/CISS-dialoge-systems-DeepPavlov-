{
 "cells": [
  {
   "cell_type": "code",
   "execution_count": 205,
   "metadata": {
    "collapsed": true
   },
   "outputs": [],
   "source": [
    "import json\n",
    "import copy"
   ]
  },
  {
   "cell_type": "code",
   "execution_count": 206,
   "metadata": {
    "collapsed": true
   },
   "outputs": [],
   "source": [
    "# pretty prints\n",
    "from pprint import pprint"
   ]
  },
  {
   "cell_type": "code",
   "execution_count": 207,
   "metadata": {
    "collapsed": true
   },
   "outputs": [],
   "source": [
    "# creating directory for json configs\n",
    "import os\n",
    "\n",
    "if not os.path.isdir(\"gobot\"):\n",
    "    os.mkdir(\"gobot\")"
   ]
  },
  {
   "cell_type": "markdown",
   "metadata": {},
   "source": [
    "<img src=\"https://static.tildacdn.com/tild6461-6138-4365-a139-383131346165/ipavlov_logo__.png\" alt=\"teacher_forcing\" width=50%/>"
   ]
  },
  {
   "cell_type": "code",
   "execution_count": 208,
   "metadata": {},
   "outputs": [],
   "source": [
    "import deeppavlov"
   ]
  },
  {
   "cell_type": "markdown",
   "metadata": {},
   "source": [
    "<style type=\"text/css\">\n",
    "#notebook-container{width: 210mm;!important;\n",
    " font-family: inherit;\n",
    " font-size:120%;\n",
    "} "
   ]
  },
  {
   "cell_type": "markdown",
   "metadata": {},
   "source": [
    "**NOTE**: \"go_bot\" model trains faster on a CPU, so let's ignore existing GPUs:"
   ]
  },
  {
   "cell_type": "code",
   "execution_count": 209,
   "metadata": {},
   "outputs": [
    {
     "name": "stdout",
     "output_type": "stream",
     "text": [
      "cuda visible devices = ''\r\n"
     ]
    }
   ],
   "source": [
    "!export CUDA_VISIBLE_DEVICES=\"\"\n",
    "!echo \"cuda visible devices = '\"$CUDA_VISIBLE_DEVICES\"'\""
   ]
  },
  {
   "cell_type": "markdown",
   "metadata": {},
   "source": [
    "# Hybrid goal-oriented bot"
   ]
  },
  {
   "cell_type": "markdown",
   "metadata": {},
   "source": [
    "Dialog bots are categorized into two types:\n",
    "\n",
    "1. **goal-oriented models **\n",
    "\n",
    "    (those who have to achieve some kind of a goal in the end of conversation: \n",
    "     - restaurant and flight booking,\n",
    "     - customer support service,\n",
    "     - etc.);\n",
    " \n",
    "2. **chit-chat models **\n",
    "\n",
    "   (those who chat just for fun, the longer bot speaks with you the better, example:\n",
    "    - \"replica\" mobile application).\n",
    "\n",
    "We will only dive into goal-oriented task specification."
   ]
  },
  {
   "cell_type": "markdown",
   "metadata": {},
   "source": [
    "![go bot architecture 0](scheme000.png)"
   ]
  },
  {
   "cell_type": "markdown",
   "metadata": {},
   "source": [
    "A classical dialog system consists of:\n",
    "\n",
    "1. **Natural Language Understanding component (NLU)**\n",
    "\n",
    " that is intended to \"understand\" human and represent it's \"understanding\" in a machine readable format. \n",
    "\n",
    " It takes an utterance text as input and converts to a dialog \"frame\".\n",
    "\n",
    " \"Frame\" may consist of:\n",
    "   - domain value (domain is some kind of \"a type of dialogs\");\n",
    "   - intent value (intent of current human utterance: \"welcome_message\", \"asking_weather\", etc.);\n",
    "   - entity slots (entities are mentioned by human \"location\", \"time\", etc.).\n",
    "\n",
    "2. **Dialogue Manager component (DM)**\n",
    "\n",
    " that is intended to decide what to respond. \n",
    "    \n",
    " It takes a filled by NLU frame and outputs action (it isn't a final text, it is a label). \n",
    "    \n",
    " For example, there may be actions: \"say_welcome\", \"say_goodbye\", \"ask_location\", \"give_weather\", etc.\n",
    "\n",
    "3. **Natural Language Generation component(NLG)**\n",
    "\n",
    " that is intended to convert action to an actual text response representation.\n",
    " \n",
    " For example, \"say_goodbye\" -> \"You are welcome!\"."
   ]
  },
  {
   "cell_type": "markdown",
   "metadata": {},
   "source": [
    "## NLU "
   ]
  },
  {
   "cell_type": "markdown",
   "metadata": {},
   "source": [
    "![go bot architecture 0](scheme001.png)"
   ]
  },
  {
   "cell_type": "markdown",
   "metadata": {},
   "source": [
    "Let's consider a dialog system with NLU component that consists of a single Named Entity Recognition \n",
    "    component (or NER)."
   ]
  },
  {
   "cell_type": "markdown",
   "metadata": {},
   "source": [
    "One of the previous tutorials introduced deeppavlov NER model and showed how to use it."
   ]
  },
  {
   "cell_type": "markdown",
   "metadata": {},
   "source": [
    "## DM & NLG"
   ]
  },
  {
   "cell_type": "markdown",
   "metadata": {},
   "source": [
    "The tutorial is focused on how to implement\n",
    " - Dialogue Manager and\n",
    " - Natural Language Generator."
   ]
  },
  {
   "cell_type": "markdown",
   "metadata": {},
   "source": [
    "### Dataset"
   ]
  },
  {
   "cell_type": "markdown",
   "metadata": {},
   "source": [
    "We will train the chatbot on a [Dialog State Tracking Chellenge 2](http://camdial.org/~mh521/dstc/) data.\n",
    "\n",
    "Let's download it first."
   ]
  },
  {
   "cell_type": "code",
   "execution_count": 210,
   "metadata": {},
   "outputs": [
    {
     "name": "stderr",
     "output_type": "stream",
     "text": [
      "2018-07-05 17:09:48.125 INFO in 'deeppavlov.dataset_readers.dstc2_reader'['dstc2_reader'] at line 214: [loading dialogs from tmp/my_download_of_dstc2/dstc2-trn.jsonlist]\n",
      "2018-07-05 17:09:48.645 INFO in 'deeppavlov.dataset_readers.dstc2_reader'['dstc2_reader'] at line 214: [loading dialogs from tmp/my_download_of_dstc2/dstc2-val.jsonlist]\n",
      "2018-07-05 17:09:48.793 INFO in 'deeppavlov.dataset_readers.dstc2_reader'['dstc2_reader'] at line 214: [loading dialogs from tmp/my_download_of_dstc2/dstc2-tst.jsonlist]\n"
     ]
    }
   ],
   "source": [
    "from deeppavlov.dataset_readers.dstc2_reader import DSTC2Version2DatasetReader\n",
    "\n",
    "data = DSTC2Version2DatasetReader().read(data_path=\"tmp/my_download_of_dstc2\")"
   ]
  },
  {
   "cell_type": "markdown",
   "metadata": {},
   "source": [
    "`DSTC2Version2DatasetReader` downloaded the needed data and saved to disk.\n",
    "\n",
    "`DialogDatasetIterator` took the data as input and transformed it to batches."
   ]
  },
  {
   "cell_type": "code",
   "execution_count": 211,
   "metadata": {
    "collapsed": true
   },
   "outputs": [],
   "source": [
    "from deeppavlov.dataset_iterators.dialog_iterator import DialogDatasetIterator\n",
    "\n",
    "batches_generator = DialogDatasetIterator(data, seed=1443, shuffle=True)\\\n",
    "                                         .gen_batches(batch_size=4, data_type='train')"
   ]
  },
  {
   "cell_type": "markdown",
   "metadata": {},
   "source": [
    "-------------\n",
    "-------------\n",
    "   Let's take a closer look at a batch content:"
   ]
  },
  {
   "cell_type": "code",
   "execution_count": 212,
   "metadata": {
    "collapsed": true
   },
   "outputs": [],
   "source": [
    "batch = batches_generator.__next__()"
   ]
  },
  {
   "cell_type": "markdown",
   "metadata": {},
   "source": [
    "Each batch is a tuple of two elements:\n",
    "  - list of x's and\n",
    "  - list of y's"
   ]
  },
  {
   "cell_type": "code",
   "execution_count": 213,
   "metadata": {},
   "outputs": [],
   "source": [
    "x_batch, y_batch = batch\n"
   ]
  },
  {
   "cell_type": "markdown",
   "metadata": {},
   "source": [
    "`x_batch` (and `y_batch`) consists of 4 samples. This is because `batch_size` was 4."
   ]
  },
  {
   "cell_type": "code",
   "execution_count": 214,
   "metadata": {},
   "outputs": [
    {
     "data": {
      "text/plain": [
       "4"
      ]
     },
     "execution_count": 214,
     "metadata": {},
     "output_type": "execute_result"
    }
   ],
   "source": [
    "len(x_batch)"
   ]
  },
  {
   "cell_type": "markdown",
   "metadata": {},
   "source": [
    "One sample is a dialog. This is how one turn from a dialog looks like:"
   ]
  },
  {
   "cell_type": "code",
   "execution_count": 215,
   "metadata": {},
   "outputs": [
    {
     "name": "stdout",
     "output_type": "stream",
     "text": [
      "----0th turn----\n",
      "(       {'intents': [], 'prev_resp_act': None, 'text': ''},\n",
      "        {       'act': 'welcomemsg',\n",
      "                'text': 'Hello, welcome to the Cambridge restaurant system. '\n",
      "                        'You can ask for restaurants by area, price range or '\n",
      "                        'food type. How may I help you?'})\n"
     ]
    }
   ],
   "source": [
    "dialog_id = 0\n",
    "dialog = [(x, y) for x, y in zip(x_batch[dialog_id], y_batch[dialog_id])]\n",
    "\n",
    "turn_id = 0\n",
    "print(\"----{}th turn----\".format(turn_id)) \n",
    "pprint(dialog[turn_id], indent=8)"
   ]
  },
  {
   "cell_type": "markdown",
   "metadata": {},
   "source": [
    "This is how the whole dialog looks (printing `'text'` parts of `x_batch` and `y_batch`):"
   ]
  },
  {
   "cell_type": "code",
   "execution_count": 216,
   "metadata": {},
   "outputs": [
    {
     "name": "stdout",
     "output_type": "stream",
     "text": [
      ":: \n",
      ">> Hello, welcome to the Cambridge restaurant system. You can ask for restaurants by area, price range or food type. How may I help you? \n",
      "\n",
      ":: traditional\n",
      ">> api_call area=\"dontcare\" food=\"traditional\" pricerange=\"dontcare\" \n",
      "\n",
      ":: traditional\n",
      ">> I am sorry but there is no traditional restaurant that matches your request. \n",
      "\n",
      ":: italian food\n",
      ">> What part of town do you have in mind? \n",
      "\n",
      ":: south\n",
      ">> api_call area=\"south\" food=\"italian\" pricerange=\"dontcare\" \n",
      "\n",
      ":: south\n",
      ">> Pizza hut cherry hinton is a nice place in the south of town serving tasty italian food. \n",
      "\n",
      ":: phone number\n",
      ">> The phone number of pizza hut cherry hinton is 01223 323737. \n",
      "\n",
      ":: post code\n",
      ">> The post code of pizza hut cherry hinton is C.B 1, 7 D.Y. \n",
      "\n",
      ":: thank you good bye\n",
      ">> You are welcome! \n",
      "\n"
     ]
    }
   ],
   "source": [
    "for turn in dialog:\n",
    "    x, y = turn\n",
    "    print('::', x['text']) \n",
    "    print('>>', y['text'], '\\n')"
   ]
  },
  {
   "cell_type": "markdown",
   "metadata": {},
   "source": [
    "### HowTo: DeepPavlov configs"
   ]
  },
  {
   "cell_type": "markdown",
   "metadata": {},
   "source": [
    "DeepPavlov uses json configs as a tool to configure data pipelines.\n",
    "\n",
    "Config has the following sections:\n",
    "     \n",
    " - **dataset_reader**\n",
    "   - configuration of dataset reader component (is responsible for data download and saving to disk);\n",
    "  \n",
    " - **dataset_iterator**\n",
    "   - configuration of dataset iterator component (is responsible for making batches (sequences) of data that will be further fed to pipe components);\n",
    "  \n",
    " - **metadata**\n",
    "   - extra info (urls for data download and telegram configuration);\n",
    "\n",
    " - **train**\n",
    "   - training process configuration (size of batches, number of training epochs, etc.);\n",
    "   \n",
    " - **chainer**\n",
    "   - specifies data flow (which components are run and in what order);"
   ]
  },
  {
   "cell_type": "markdown",
   "metadata": {},
   "source": [
    "Let's construct a simple config that builds a dictionary of input sample tokens."
   ]
  },
  {
   "cell_type": "code",
   "execution_count": 217,
   "metadata": {
    "collapsed": true
   },
   "outputs": [],
   "source": [
    "vocab_config = {}"
   ]
  },
  {
   "cell_type": "markdown",
   "metadata": {},
   "source": [
    "- **dataset_reader** -- configuration of dataset reader component (that is responsible for data download and saving to disk)"
   ]
  },
  {
   "cell_type": "code",
   "execution_count": 218,
   "metadata": {
    "collapsed": true
   },
   "outputs": [],
   "source": [
    "dstc2_reader_comp_config = {\n",
    "    'name': 'dstc2_v2_reader',\n",
    "    'data_path': 'dstc2_v2'\n",
    "}"
   ]
  },
  {
   "cell_type": "code",
   "execution_count": 219,
   "metadata": {},
   "outputs": [],
   "source": [
    "vocab_config['dataset_reader'] = dstc2_reader_comp_config"
   ]
  },
  {
   "cell_type": "markdown",
   "metadata": {},
   "source": [
    "- **dataset_iterator** -- configuration of dataset iterator component (that is responsible for making batches (sequences) of data that will be further fed to pipe components)"
   ]
  },
  {
   "cell_type": "code",
   "execution_count": 220,
   "metadata": {
    "collapsed": true
   },
   "outputs": [],
   "source": [
    "dialog_iterator_comp_config = {\n",
    "    'name': 'dialog_iterator'\n",
    "}"
   ]
  },
  {
   "cell_type": "code",
   "execution_count": 221,
   "metadata": {
    "collapsed": true
   },
   "outputs": [],
   "source": [
    "vocab_config['dataset_iterator'] = dialog_iterator_comp_config"
   ]
  },
  {
   "cell_type": "markdown",
   "metadata": {},
   "source": [
    "- **metadata** -- some extra info\n",
    "     - **metadata.download** -- a list of data which should be downloaded in order for config to work"
   ]
  },
  {
   "cell_type": "code",
   "execution_count": 222,
   "metadata": {
    "collapsed": true
   },
   "outputs": [],
   "source": [
    "dstc2_download_config = {\n",
    "    'url': 'http://lnsigo.mipt.ru/export/datasets/dstc2_v2.tar.gz',\n",
    "    'subdir': 'dstc2_v2'\n",
    "}"
   ]
  },
  {
   "cell_type": "code",
   "execution_count": 223,
   "metadata": {
    "collapsed": true
   },
   "outputs": [],
   "source": [
    "vocab_config['metadata'] = {}\n",
    "vocab_config['metadata']['download'] = [\n",
    "    dstc2_download_config\n",
    "]"
   ]
  },
  {
   "cell_type": "markdown",
   "metadata": {},
   "source": [
    "- **train** -- training process configuration\n",
    "     \n",
    "We don't need to train anything now, just build (fit on whole dataset once) a dictionary, so \"train\" section is empty."
   ]
  },
  {
   "cell_type": "code",
   "execution_count": 224,
   "metadata": {
    "collapsed": true
   },
   "outputs": [],
   "source": [
    "vocab_config['train'] = {}"
   ]
  },
  {
   "cell_type": "markdown",
   "metadata": {},
   "source": [
    " - **chainer** specifies data flow:\n",
    " \n",
    "     - **chainer.in** -- is a list of input sample names (one data sample might consist of several variables);\n",
    "     - **chainer.in_y** -- is a list of input label names (each sample might have labels of different kind);\n",
    "     - **chainer.out** -- is a list of output prediction names (usually has the same length as \"chainer.in_y\");\n",
    "     \n",
    "X is only an utterance here.\n",
    "\n",
    "Y is empty (we don't need to train the dictionary like neural networks)\n",
    "\n",
    "There is no prediction for the config, nothing to predict."
   ]
  },
  {
   "cell_type": "code",
   "execution_count": 225,
   "metadata": {
    "collapsed": true
   },
   "outputs": [],
   "source": [
    "vocab_config['chainer'] = {}\n",
    "vocab_config['chainer']['in'] = ['utterance']\n",
    "vocab_config['chainer']['in_y'] = []\n",
    "vocab_config['chainer']['out'] = []"
   ]
  },
  {
   "cell_type": "markdown",
   "metadata": {},
   "source": [
    "- **chainer**\n",
    "     - **chainer.pipe** -- is a list of consequently run components. This is the place where you specify in which order and what kind of data will be fed to components. \n",
    "     \n",
    "Our pipe consists of one component -- \"default_vocab\"."
   ]
  },
  {
   "cell_type": "markdown",
   "metadata": {},
   "source": [
    "##### HowTo: Component config"
   ]
  },
  {
   "cell_type": "markdown",
   "metadata": {},
   "source": [
    "Component configs are always just a part of a global model config (described above).\n",
    "\n",
    "Config for any component contains the following **_required_** parameters:\n",
    " - **name** -- registered name of a component (it is a link to python component implementation)\n",
    " - **save_path** -- path to save the component (sometimes is not needed, for example, for tokenizers)\n",
    " - **load_path** -- path to load the component (sometimes is not needed, for examples, for tokenizers)\n",
    "\n",
    "and the following **_optional_** parameters:\n",
    " - **id** -- reference name for the component\n",
    " - **ref** -- \"id\" of a component that was previously initialized. It can be used instead of \"name\".\n",
    " - **fit\\_on** -- a list of data fields to fit on (it calls \\_\\_fit\\_\\_ method of the component)\n",
    " - **in** -- a list of data fields that are inputs during inference (prediction)\n",
    " - **out** -- a list of data fields that are outputs during inference (prediction)\n",
    " \n",
    " \n",
    "\"default_vocab\" component also has it's on unique parameters:\n",
    " - level -- on which level to operate ('token' level and 'char' (character) level are available)\n",
    " - tokenizer -- if input is a string, then it will be tokenized by the tokenizer, _optional parameter_"
   ]
  },
  {
   "cell_type": "code",
   "execution_count": 226,
   "metadata": {
    "collapsed": true
   },
   "outputs": [],
   "source": [
    "vocab_comp_config = {\n",
    "    'name': 'default_vocab',\n",
    "    'save_path': 'vocabs/token.dict',\n",
    "    'load_path': 'vocabs/token.dict',\n",
    "    'fit_on': ['utterance'],\n",
    "    'level': 'token',\n",
    "    'tokenizer': {'name': 'split_tokenizer'},\n",
    "    'main': True\n",
    "}"
   ]
  },
  {
   "cell_type": "code",
   "execution_count": 227,
   "metadata": {
    "collapsed": true
   },
   "outputs": [],
   "source": [
    "vocab_config['chainer']['pipe'] = [\n",
    "    vocab_comp_config\n",
    "]"
   ]
  },
  {
   "cell_type": "code",
   "execution_count": 228,
   "metadata": {
    "collapsed": true
   },
   "outputs": [],
   "source": [
    "json.dump(vocab_config, open(\"gobot/vocab_config.json\", 'wt'))"
   ]
  },
  {
   "cell_type": "markdown",
   "metadata": {},
   "source": [
    "To download \"dstc2_v2\" dataset use `deeppavlov.deep_download` script (you have to do it only once):"
   ]
  },
  {
   "cell_type": "code",
   "execution_count": 229,
   "metadata": {},
   "outputs": [
    {
     "name": "stderr",
     "output_type": "stream",
     "text": [
      "2018-07-05 17:09:53.977 INFO in 'deeppavlov.download'['download'] at line 142: Downloading...\n",
      "2018-07-05 17:09:53.983 DEBUG in 'urllib3.connectionpool'['connectionpool'] at line 208: Starting new HTTP connection (1): lnsigo.mipt.ru\n",
      "2018-07-05 17:09:54.338 DEBUG in 'urllib3.connectionpool'['connectionpool'] at line 396: http://lnsigo.mipt.ru:80 \"GET /export/datasets/dstc2_v2.tar.gz HTTP/1.1\" 200 506300\n",
      "2018-07-05 17:09:54.345 INFO in 'deeppavlov.core.data.utils'['utils'] at line 65: Downloading from http://lnsigo.mipt.ru/export/datasets/dstc2_v2.tar.gz to /home/temkahap/Рабочий стол/CISS/DeepPavlov/download/dstc2_v2.tar.gz\n",
      "100%|██████████| 506k/506k [00:02<00:00, 187kB/s]  \n",
      "2018-07-05 17:09:57.65 INFO in 'deeppavlov.core.data.utils'['utils'] at line 149: Extracting /home/temkahap/Рабочий стол/CISS/DeepPavlov/download/dstc2_v2.tar.gz archive into /home/temkahap/Рабочий стол/CISS/DeepPavlov/download/dstc2_v2\n",
      "2018-07-05 17:09:57.129 INFO in 'deeppavlov.download'['download'] at line 144: \n",
      "Download successful!\n"
     ]
    }
   ],
   "source": [
    "from deeppavlov.download import deep_download # it is called \"deep\" in honor of \"Deep Pavlov\"\n",
    "\n",
    "deep_download(['--config', 'gobot/vocab_config.json'])"
   ]
  },
  {
   "cell_type": "markdown",
   "metadata": {},
   "source": [
    "All data and models are saved to root of deeppavlov module + `../download` (`DEEPPAVLOV_ROOT/../download/`)."
   ]
  },
  {
   "cell_type": "code",
   "execution_count": 230,
   "metadata": {
    "collapsed": true
   },
   "outputs": [],
   "source": [
    "dstc2_v2_path = deeppavlov.__path__[0] + '/../download/dstc2_v2'"
   ]
  },
  {
   "cell_type": "markdown",
   "metadata": {},
   "source": [
    "Data was downloaded to `dstc2_v2_path`:"
   ]
  },
  {
   "cell_type": "code",
   "execution_count": 231,
   "metadata": {},
   "outputs": [
    {
     "name": "stdout",
     "output_type": "stream",
     "text": [
      "> ls /home/temkahap/Рабочий стол/CISS/DeepPavlov/deeppavlov/../download/dstc2_v2\n",
      "ls: невозможно получить доступ к '/home/temkahap/Рабочий': Нет такого файла или каталога\n",
      "ls: невозможно получить доступ к 'стол/CISS/DeepPavlov/deeppavlov/../download/dstc2_v2': Нет такого файла или каталога\n"
     ]
    }
   ],
   "source": [
    "# The command will only work for linux, do not panic otherwise -- it isn't something crucially important.\n",
    "# You can further just comment bash commands.\n",
    "!echo \"> ls $dstc2_v2_path\"\n",
    "!ls $dstc2_v2_path"
   ]
  },
  {
   "cell_type": "markdown",
   "metadata": {},
   "source": [
    "Let's build our vocabulary."
   ]
  },
  {
   "cell_type": "code",
   "execution_count": 232,
   "metadata": {},
   "outputs": [
    {
     "name": "stderr",
     "output_type": "stream",
     "text": [
      "2018-07-05 17:10:00.886 INFO in 'deeppavlov.dataset_readers.dstc2_reader'['dstc2_reader'] at line 214: [loading dialogs from /home/temkahap/Рабочий стол/CISS/DeepPavlov/download/dstc2_v2/dstc2-trn.jsonlist]\n",
      "2018-07-05 17:10:01.394 INFO in 'deeppavlov.dataset_readers.dstc2_reader'['dstc2_reader'] at line 214: [loading dialogs from /home/temkahap/Рабочий стол/CISS/DeepPavlov/download/dstc2_v2/dstc2-val.jsonlist]\n",
      "2018-07-05 17:10:01.854 INFO in 'deeppavlov.dataset_readers.dstc2_reader'['dstc2_reader'] at line 214: [loading dialogs from /home/temkahap/Рабочий стол/CISS/DeepPavlov/download/dstc2_v2/dstc2-tst.jsonlist]\n",
      "2018-07-05 17:10:02.41 INFO in 'deeppavlov.core.data.vocab'['vocab'] at line 162: [loading vocabulary from /home/temkahap/Рабочий стол/CISS/DeepPavlov/download/vocabs/token.dict]\n",
      "2018-07-05 17:10:02.75 INFO in 'deeppavlov.core.data.vocab'['vocab'] at line 150: [saving vocabulary to /home/temkahap/Рабочий стол/CISS/DeepPavlov/download/vocabs/token.dict]\n",
      "2018-07-05 17:10:02.77 INFO in 'deeppavlov.core.data.vocab'['vocab'] at line 162: [loading vocabulary from /home/temkahap/Рабочий стол/CISS/DeepPavlov/download/vocabs/token.dict]\n",
      "2018-07-05 17:10:02.78 INFO in 'deeppavlov.core.commands.train'['train'] at line 174: Testing the best saved model\n"
     ]
    },
    {
     "name": "stdout",
     "output_type": "stream",
     "text": [
      "{\"valid\": {\"eval_examples_count\": 575, \"metrics\": {\"accuracy\": 0.0}, \"time_spent\": \"0:00:01\"}}\n",
      "{\"test\": {\"eval_examples_count\": 576, \"metrics\": {\"accuracy\": 0.0}, \"time_spent\": \"0:00:01\"}}\n"
     ]
    }
   ],
   "source": [
    "from deeppavlov.core.commands.train import train_evaluate_model_from_config\n",
    "\n",
    "train_evaluate_model_from_config(\"gobot/vocab_config.json\")"
   ]
  },
  {
   "cell_type": "markdown",
   "metadata": {},
   "source": [
    "Vocabulary was built on data and saved to disk.\n",
    "\n",
    "`save_path = 'vocabs/token.dict'` and component files are saved to `DEEPPAVLOV_ROOT/../download/vocabs/token.dict`."
   ]
  },
  {
   "cell_type": "code",
   "execution_count": 233,
   "metadata": {},
   "outputs": [],
   "source": [
    "vocabs_path = deeppavlov.__path__[0] + '/../download/vocabs'"
   ]
  },
  {
   "cell_type": "code",
   "execution_count": 234,
   "metadata": {},
   "outputs": [
    {
     "name": "stdout",
     "output_type": "stream",
     "text": [
      "> ls /home/temkahap/Рабочий стол/CISS/DeepPavlov/deeppavlov/../download/vocabs\n",
      "ls: невозможно получить доступ к '/home/temkahap/Рабочий': Нет такого файла или каталога\n",
      "ls: невозможно получить доступ к 'стол/CISS/DeepPavlov/deeppavlov/../download/vocabs': Нет такого файла или каталога\n"
     ]
    }
   ],
   "source": [
    "!echo \"> ls $vocabs_path\"\n",
    "!ls $vocabs_path"
   ]
  },
  {
   "cell_type": "markdown",
   "metadata": {},
   "source": [
    "This is the content of the saved \"token.dict\":"
   ]
  },
  {
   "cell_type": "code",
   "execution_count": 235,
   "metadata": {},
   "outputs": [
    {
     "name": "stdout",
     "output_type": "stream",
     "text": [
      "> head /home/temkahap/Рабочий стол/CISS/DeepPavlov/deeppavlov/../download/vocabs/token.dict\n",
      "head: невозможно открыть '/home/temkahap/Рабочий' для чтения: Нет такого файла или каталога\n",
      "head: невозможно открыть 'стол/CISS/DeepPavlov/deeppavlov/../download/vocabs/token.dict' для чтения: Нет такого файла или каталога\n"
     ]
    }
   ],
   "source": [
    "!echo \"> head $vocabs_path/token.dict\"\n",
    "!head $vocabs_path/token.dict"
   ]
  },
  {
   "cell_type": "markdown",
   "metadata": {},
   "source": [
    "##### Using trained component"
   ]
  },
  {
   "cell_type": "markdown",
   "metadata": {},
   "source": [
    "We can use built vocabulary by initializing it with `build_model_from_config`.\n",
    "\n",
    "We need to add `in` and `out` to component configuration ( to know what are inputs and outputs during prediction ) :\n",
    " - **in** -- a list of data fields that are inputs during inference (prediction)\n",
    " - **out** -- a list of data fields that are outputs during inference (prediction)"
   ]
  },
  {
   "cell_type": "code",
   "execution_count": 236,
   "metadata": {
    "collapsed": true
   },
   "outputs": [],
   "source": [
    "vocab_comp_config['in'] = ['utterance']\n",
    "vocab_comp_config['out'] = ['utterance_token_indices']\n",
    "\n",
    "vocab_config['chainer']['pipe'] = [\n",
    "    vocab_comp_config\n",
    "]\n",
    "vocab_config['chainer']['out'] = ['utterance_token_indices']"
   ]
  },
  {
   "cell_type": "code",
   "execution_count": 237,
   "metadata": {},
   "outputs": [
    {
     "name": "stderr",
     "output_type": "stream",
     "text": [
      "2018-07-05 17:10:02.637 INFO in 'deeppavlov.core.data.vocab'['vocab'] at line 162: [loading vocabulary from /home/temkahap/Рабочий стол/CISS/DeepPavlov/download/vocabs/token.dict]\n"
     ]
    }
   ],
   "source": [
    "from deeppavlov.core.commands.infer import build_model_from_config\n",
    "\n",
    "model = build_model_from_config(vocab_config)"
   ]
  },
  {
   "cell_type": "markdown",
   "metadata": {},
   "source": [
    "Model expects a list of samples (batch) as input."
   ]
  },
  {
   "cell_type": "code",
   "execution_count": 238,
   "metadata": {},
   "outputs": [
    {
     "data": {
      "text/plain": [
       "<deeppavlov.core.common.chainer.Chainer at 0x7f989db3f0b8>"
      ]
     },
     "execution_count": 238,
     "metadata": {},
     "output_type": "execute_result"
    }
   ],
   "source": [
    "model(['hi'])\n",
    "model"
   ]
  },
  {
   "cell_type": "markdown",
   "metadata": {},
   "source": [
    "### Model `gobot_dstc2_simple`"
   ]
  },
  {
   "cell_type": "markdown",
   "metadata": {},
   "source": [
    "Now let's train a simple goal-oriented bot:"
   ]
  },
  {
   "cell_type": "code",
   "execution_count": 239,
   "metadata": {
    "collapsed": true
   },
   "outputs": [],
   "source": [
    "from deeppavlov.download import deep_download\n",
    "from deeppavlov.core.commands.train import train_evaluate_model_from_config\n",
    "from deeppavlov.core.commands.infer import build_model_from_config"
   ]
  },
  {
   "cell_type": "markdown",
   "metadata": {},
   "source": [
    "\"dataset_reader\", \"dataset_iterator\" and \"metadata\" will be the same as for vocabulary only."
   ]
  },
  {
   "cell_type": "code",
   "execution_count": 240,
   "metadata": {
    "collapsed": true
   },
   "outputs": [],
   "source": [
    "simple_config = {}\n",
    "\n",
    "simple_config['dataset_reader'] = dstc2_reader_comp_config\n",
    "simple_config['dataset_iterator'] = dialog_iterator_comp_config\n",
    "simple_config['metadata'] = {}\n",
    "simple_config['metadata']['download'] = [\n",
    "    dstc2_download_config\n",
    "]"
   ]
  },
  {
   "cell_type": "markdown",
   "metadata": {},
   "source": [
    "X here is a dict `'x'` containing context 'text', 'intents', db_result', 'prev_resp_act'\n",
    "\n",
    "Y here is a dict `'y'` containing response 'act' and 'text'\n",
    "\n",
    "Prediction `'y_predicted'` here will be only 'text'"
   ]
  },
  {
   "cell_type": "code",
   "execution_count": 241,
   "metadata": {
    "collapsed": true
   },
   "outputs": [],
   "source": [
    "simple_config['chainer'] = {}\n",
    "simple_config['chainer']['in'] = ['x']\n",
    "simple_config['chainer']['in_y'] =['y']\n",
    "simple_config['chainer']['out'] = ['y_predicted']"
   ]
  },
  {
   "cell_type": "markdown",
   "metadata": {},
   "source": [
    "The bot consists (`pipe` section) of two components:\n",
    "- **`default_vocab`** (or DefaultVocabulary) component that \n",
    "\n",
    "    - remembers all tokens from user utterances. \n",
    "    - `DefaultVocabulary.__call__` method inputs batch of tokens and outputs their indeces."
   ]
  },
  {
   "cell_type": "markdown",
   "metadata": {},
   "source": [
    "Vocabulary component will be the same as before, but let's add reference to component using `id` \n",
    "- **id** -- reference name for the component"
   ]
  },
  {
   "cell_type": "code",
   "execution_count": 242,
   "metadata": {
    "collapsed": true
   },
   "outputs": [],
   "source": [
    "vocab_comp_config = {\n",
    "    'name': 'default_vocab',\n",
    "    'id': 'token_vocab',\n",
    "    'load_path': 'vocabs/token.dict',\n",
    "    'save_path': 'vocabs/token.dict',\n",
    "    'fit_on': ['x'],\n",
    "    'level': 'token',\n",
    "    'tokenizer': {'name': 'split_tokenizer'}\n",
    "}"
   ]
  },
  {
   "cell_type": "markdown",
   "metadata": {},
   "source": [
    "Adding vocabulary to chainer:"
   ]
  },
  {
   "cell_type": "code",
   "execution_count": 243,
   "metadata": {
    "collapsed": true
   },
   "outputs": [],
   "source": [
    "simple_config['chainer']['pipe'] = []\n",
    "simple_config['chainer']['pipe'].append(vocab_comp_config)"
   ]
  },
  {
   "cell_type": "markdown",
   "metadata": {},
   "source": [
    "- **`go_bot`** (or GoalOrientedBot) component that\n",
    "    - calls `slot_filler` that for user utterance outputs mentioned slots \n",
    "        (for example, \"i want cheap food\" -> {'pricerange': 'cheap'})\n",
    "    - updates dialog state with `tracker` (DialogStateTracker)\n",
    "        \n",
    "          (for example, if old state was {'location': 'north'}, \n",
    "          and current slots are {'pricerange': 'cheap'}, \n",
    "          then new dialog state will be {'location': 'north', 'pricerange': 'cheap'})\n",
    "    - converts user utterance in string format (`x`) to tokens with `tokenizer`\n",
    "\n",
    "          (for example, \"hi, i want some cheap food\" -> ['hi', ',', 'i', 'want', 'some', 'cheap', 'food'])\n",
    "    - then embeds the tokens with bag-of-words using `bow_embedder`(if not None) and `word_vocab`\n",
    "\n",
    "          (for example, \"cheap\" -> [1, 0, 0, 0, .., 0])\n",
    "    - embeds the utterance with continuous `embedder` (if not None) as a mean of embeddings of utterance tokens\n",
    "        \n",
    "          (for example, \"i\" -> [0.1231, 0.23423, .., 0.03489])\n",
    "    - concatenates embeddings and passes it as an input to a recurrent neural network (RNN)\n",
    "    - trains RNN (with LongShortTermMemory (LSTM) as a core graph) that outputs an action label\n",
    "    - loads templates (mapping from labels to string) using `template_path` and `template_type` and converts action label to string\n",
    "        \n",
    "          (for example, \"bye_msg\" -> \"You are welcome!\")\n",
    "    - fills result string with slot values from dialog state\n",
    "        \n",
    "          (for example, if\n",
    "           dialog state is equal to {'pricerange': 'cheap'}\n",
    "           and output string is \"There are no restaurants in a #pricerange pricerange\"\n",
    "           then the result response will be \"There are no restaurants in a cheap pricerange\")"
   ]
  },
  {
   "cell_type": "code",
   "execution_count": 244,
   "metadata": {
    "collapsed": true
   },
   "outputs": [],
   "source": [
    "bot_comp_config = {\n",
    "    'name': 'go_bot',\n",
    "    'in': ['x'],\n",
    "    'in_y': ['y'],\n",
    "    'out': ['y_predicted'],\n",
    "    'word_vocab': None,\n",
    "    'bow_embedder': {\"name\": \"bow\"},\n",
    "    'embedder': None,\n",
    "    'slot_filler': None,\n",
    "    'template_path': 'dstc2_v2/dstc2-templates.txt',\n",
    "    'template_type': 'DualTemplate',\n",
    "    'database': None,\n",
    "    'api_call_action': 'api_call',\n",
    "    'network_parameters': {\n",
    "      'load_path': 'gobot_dstc2_simple/model',\n",
    "      'save_path': 'gobot_dstc2_simple/model',\n",
    "      'dense_size': 64,\n",
    "      'hidden_size': 128,\n",
    "      'learning_rate': 0.002,\n",
    "      'attention_mechanism': None\n",
    "    },\n",
    "    'tokenizer': {'name': 'stream_spacy_tokenizer',\n",
    "                  'lowercase': False},\n",
    "    'tracker': {'name': 'featurized_tracker',\n",
    "                'slot_names': ['pricerange', 'this', 'area', 'food', 'name']},\n",
    "    'main': True,\n",
    "    'debug': False\n",
    "}"
   ]
  },
  {
   "cell_type": "markdown",
   "metadata": {},
   "source": [
    "This is how we use vocabulary by reference:"
   ]
  },
  {
   "cell_type": "code",
   "execution_count": 245,
   "metadata": {
    "collapsed": true
   },
   "outputs": [],
   "source": [
    "bot_comp_config['word_vocab'] = '#token_vocab'"
   ]
  },
  {
   "cell_type": "markdown",
   "metadata": {},
   "source": [
    "Announcing slot filler component.\n",
    "We assume that slot filler is already trained, and use it by referencing it's config."
   ]
  },
  {
   "cell_type": "code",
   "execution_count": 246,
   "metadata": {
    "collapsed": true
   },
   "outputs": [],
   "source": [
    "slot_filler_comp_config = {\n",
    "    'config_path': deeppavlov.__path__[0] + '/../deeppavlov/configs/ner/slotfill_dstc2.json'\n",
    "}"
   ]
  },
  {
   "cell_type": "markdown",
   "metadata": {},
   "source": [
    "Adding slot filler to bot component:"
   ]
  },
  {
   "cell_type": "code",
   "execution_count": 247,
   "metadata": {
    "collapsed": true
   },
   "outputs": [],
   "source": [
    "bot_comp_config['slot_filler'] = slot_filler_comp_config"
   ]
  },
  {
   "cell_type": "markdown",
   "metadata": {},
   "source": [
    "Adding `bot_comp_config` to `pipe`:"
   ]
  },
  {
   "cell_type": "code",
   "execution_count": 248,
   "metadata": {
    "collapsed": true
   },
   "outputs": [],
   "source": [
    "simple_config['chainer']['pipe'].append(bot_comp_config)"
   ]
  },
  {
   "cell_type": "markdown",
   "metadata": {},
   "source": [
    "Neural network (in the bot) is trained in epochs, and needs data in the form of batches.\n",
    "\n",
    "That is why we are now filling \"train\" section with training parameters."
   ]
  },
  {
   "cell_type": "markdown",
   "metadata": {},
   "source": [
    "- **train** -- training process configuration\n",
    "     - **train.batch_size** is a number of samples in a batch (feeded to the network during one training step)\n",
    "     - **train.epochs** is a number of iterations over dataset during training\n",
    "     - **train.log_every_n_batches** and **train.log_every_n_epochs** control frequency of logging messages\n",
    "     - **train.metrics** is a list of metrics used to validate our performance\n",
    "     - **train.val_every_n_batches** and **train.val_every_n_epochs** describes how often we calculate metrics on `valid` data split\n",
    "     - **train.validation_patience** is a number of epochs without metric improvement on `valid` data that we are able to endure =)"
   ]
  },
  {
   "cell_type": "code",
   "execution_count": 249,
   "metadata": {
    "collapsed": true
   },
   "outputs": [],
   "source": [
    "simple_bot_train_config = {\n",
    "    'batch_size': 4,\n",
    "    'epochs': 2,\n",
    "    'log_every_n_batches': -1,\n",
    "    'log_every_n_epochs': 1,\n",
    "    'metrics': ['per_item_dialog_accuracy'],\n",
    "    'val_every_n_epochs': 1,\n",
    "    'validation_patience': 20\n",
    "}"
   ]
  },
  {
   "cell_type": "code",
   "execution_count": 250,
   "metadata": {
    "collapsed": true
   },
   "outputs": [],
   "source": [
    "simple_config['train'] = simple_bot_train_config"
   ]
  },
  {
   "cell_type": "code",
   "execution_count": 251,
   "metadata": {
    "collapsed": true
   },
   "outputs": [],
   "source": [
    "json.dump(simple_config, open(\"gobot/simple_config.json\", 'wt'))"
   ]
  },
  {
   "cell_type": "markdown",
   "metadata": {},
   "source": [
    "`train.epochs` is set to '2' for now, if you intend to train a smarter model, you should increase it (a range from 10 to 200 epochs is recommended)."
   ]
  },
  {
   "cell_type": "code",
   "execution_count": 252,
   "metadata": {
    "scrolled": true
   },
   "outputs": [
    {
     "name": "stderr",
     "output_type": "stream",
     "text": [
      "2018-07-05 17:10:03.441 INFO in 'deeppavlov.download'['download'] at line 142: Downloading...\n",
      "2018-07-05 17:10:03.445 DEBUG in 'urllib3.connectionpool'['connectionpool'] at line 208: Starting new HTTP connection (1): lnsigo.mipt.ru\n",
      "2018-07-05 17:10:03.615 DEBUG in 'urllib3.connectionpool'['connectionpool'] at line 396: http://lnsigo.mipt.ru:80 \"GET /export/deeppavlov_data/slotfill_dstc2.tar.gz HTTP/1.1\" 200 640674\n",
      "2018-07-05 17:10:03.617 INFO in 'deeppavlov.core.data.utils'['utils'] at line 65: Downloading from http://lnsigo.mipt.ru/export/deeppavlov_data/slotfill_dstc2.tar.gz to /home/temkahap/Рабочий стол/CISS/DeepPavlov/slotfill_dstc2.tar.gz\n",
      "100%|██████████| 641k/641k [00:01<00:00, 495kB/s] \n",
      "2018-07-05 17:10:04.913 INFO in 'deeppavlov.core.data.utils'['utils'] at line 149: Extracting /home/temkahap/Рабочий стол/CISS/DeepPavlov/slotfill_dstc2.tar.gz archive into /home/temkahap/Рабочий стол/CISS/DeepPavlov/download\n",
      "2018-07-05 17:10:04.928 INFO in 'deeppavlov.download'['download'] at line 144: \n",
      "Download successful!\n"
     ]
    }
   ],
   "source": [
    "deep_download(['--config', slot_filler_comp_config['config_path']])"
   ]
  },
  {
   "cell_type": "code",
   "execution_count": 253,
   "metadata": {},
   "outputs": [
    {
     "name": "stderr",
     "output_type": "stream",
     "text": [
      "2018-07-05 17:10:04.936 INFO in 'deeppavlov.dataset_readers.dstc2_reader'['dstc2_reader'] at line 214: [loading dialogs from /home/temkahap/Рабочий стол/CISS/DeepPavlov/download/dstc2_v2/dstc2-trn.jsonlist]\n",
      "2018-07-05 17:10:05.539 INFO in 'deeppavlov.dataset_readers.dstc2_reader'['dstc2_reader'] at line 214: [loading dialogs from /home/temkahap/Рабочий стол/CISS/DeepPavlov/download/dstc2_v2/dstc2-val.jsonlist]\n",
      "2018-07-05 17:10:05.682 INFO in 'deeppavlov.dataset_readers.dstc2_reader'['dstc2_reader'] at line 214: [loading dialogs from /home/temkahap/Рабочий стол/CISS/DeepPavlov/download/dstc2_v2/dstc2-tst.jsonlist]\n",
      "2018-07-05 17:10:06.144 INFO in 'deeppavlov.core.data.vocab'['vocab'] at line 162: [loading vocabulary from /home/temkahap/Рабочий стол/CISS/DeepPavlov/download/vocabs/token.dict]\n",
      "2018-07-05 17:10:06.177 INFO in 'deeppavlov.core.data.vocab'['vocab'] at line 150: [saving vocabulary to /home/temkahap/Рабочий стол/CISS/DeepPavlov/download/vocabs/token.dict]\n",
      "2018-07-05 17:10:06.180 INFO in 'deeppavlov.core.data.simple_vocab'['simple_vocab'] at line 94: [loading vocabulary from /home/temkahap/Рабочий стол/CISS/DeepPavlov/download/slotfill_dstc2/word.dict]\n",
      "2018-07-05 17:10:06.185 INFO in 'deeppavlov.core.data.simple_vocab'['simple_vocab'] at line 94: [loading vocabulary from /home/temkahap/Рабочий стол/CISS/DeepPavlov/download/slotfill_dstc2/tag.dict]\n",
      "2018-07-05 17:10:06.929 INFO in 'deeppavlov.core.models.tf_model'['tf_model'] at line 40: [loading model from /home/temkahap/Рабочий стол/CISS/DeepPavlov/download/slotfill_dstc2/model]\n"
     ]
    },
    {
     "name": "stdout",
     "output_type": "stream",
     "text": [
      "INFO:tensorflow:Restoring parameters from /home/temkahap/Рабочий стол/CISS/DeepPavlov/download/slotfill_dstc2/model\n"
     ]
    },
    {
     "name": "stderr",
     "output_type": "stream",
     "text": [
      "2018-07-05 17:10:06.944 INFO in 'tensorflow'['tf_logging'] at line 116: Restoring parameters from /home/temkahap/Рабочий стол/CISS/DeepPavlov/download/slotfill_dstc2/model\n",
      "2018-07-05 17:10:07.450 WARNING in 'deeppavlov.core.models.serializable'['serializable'] at line 56: No load path is set for GoalOrientedBot!\n",
      "2018-07-05 17:10:07.450 INFO in 'deeppavlov.skills.go_bot.bot'['bot'] at line 69: [loading templates from /home/temkahap/Рабочий стол/CISS/DeepPavlov/download/dstc2_v2/dstc2-templates.txt]\n",
      "2018-07-05 17:10:07.451 INFO in 'deeppavlov.skills.go_bot.bot'['bot'] at line 72: 46 templates loaded\n",
      "2018-07-05 17:10:07.452 INFO in 'deeppavlov.skills.go_bot.bot'['bot'] at line 96: Calculated input size for `GoalOrientedBotNetwork` is 511\n",
      "2018-07-05 17:10:08.189 INFO in 'deeppavlov.skills.go_bot.network'['network'] at line 52: [initializing `GoalOrientedBotNetwork` from saved]\n",
      "2018-07-05 17:10:08.190 INFO in 'deeppavlov.skills.go_bot.network'['network'] at line 303: [loading parameters from /home/temkahap/Рабочий стол/CISS/DeepPavlov/download/gobot_dstc2_simple/model.json]\n",
      "2018-07-05 17:10:08.191 INFO in 'deeppavlov.core.models.tf_model'['tf_model'] at line 40: [loading model from /home/temkahap/Рабочий стол/CISS/DeepPavlov/download/gobot_dstc2_simple/model]\n"
     ]
    },
    {
     "name": "stdout",
     "output_type": "stream",
     "text": [
      "INFO:tensorflow:Restoring parameters from /home/temkahap/Рабочий стол/CISS/DeepPavlov/download/gobot_dstc2_simple/model\n"
     ]
    },
    {
     "name": "stderr",
     "output_type": "stream",
     "text": [
      "2018-07-05 17:10:08.202 INFO in 'tensorflow'['tf_logging'] at line 116: Restoring parameters from /home/temkahap/Рабочий стол/CISS/DeepPavlov/download/gobot_dstc2_simple/model\n",
      "2018-07-05 17:11:05.750 INFO in 'deeppavlov.skills.go_bot.network'['network'] at line 315: Updating global step, learning rate = 0.002000.\n"
     ]
    },
    {
     "name": "stdout",
     "output_type": "stream",
     "text": [
      "{\"train\": {\"epochs_done\": 1, \"batches_seen\": 242, \"train_examples_seen\": 967, \"metrics\": {\"per_item_dialog_accuracy\": 0.614}, \"time_spent\": \"0:00:58\"}}\n"
     ]
    },
    {
     "name": "stderr",
     "output_type": "stream",
     "text": [
      "2018-07-05 17:11:25.941 INFO in 'deeppavlov.core.commands.train'['train'] at line 343: New best per_item_dialog_accuracy of 0.4635\n",
      "2018-07-05 17:11:25.942 INFO in 'deeppavlov.core.commands.train'['train'] at line 345: Saving model\n",
      "2018-07-05 17:11:25.942 INFO in 'deeppavlov.core.models.tf_model'['tf_model'] at line 49: [saving model to /home/temkahap/Рабочий стол/CISS/DeepPavlov/download/gobot_dstc2_simple/model]\n",
      "2018-07-05 17:11:26.396 INFO in 'deeppavlov.skills.go_bot.network'['network'] at line 297: [saving parameters to /home/temkahap/Рабочий стол/CISS/DeepPavlov/download/gobot_dstc2_simple/model.json]\n"
     ]
    },
    {
     "name": "stdout",
     "output_type": "stream",
     "text": [
      "{\"valid\": {\"eval_examples_count\": 575, \"metrics\": {\"per_item_dialog_accuracy\": 0.4635}, \"time_spent\": \"0:01:18\", \"epochs_done\": 1, \"batches_seen\": 242, \"train_examples_seen\": 967, \"impatience\": 0, \"patience_limit\": 20}}\n"
     ]
    },
    {
     "name": "stderr",
     "output_type": "stream",
     "text": [
      "2018-07-05 17:12:21.362 INFO in 'deeppavlov.skills.go_bot.network'['network'] at line 315: Updating global step, learning rate = 0.002000.\n"
     ]
    },
    {
     "name": "stdout",
     "output_type": "stream",
     "text": [
      "{\"train\": {\"epochs_done\": 2, \"batches_seen\": 484, \"train_examples_seen\": 1934, \"metrics\": {\"per_item_dialog_accuracy\": 0.6239}, \"time_spent\": \"0:02:14\"}}\n"
     ]
    },
    {
     "name": "stderr",
     "output_type": "stream",
     "text": [
      "2018-07-05 17:12:41.180 INFO in 'deeppavlov.core.commands.train'['train'] at line 343: New best per_item_dialog_accuracy of 0.4877\n",
      "2018-07-05 17:12:41.181 INFO in 'deeppavlov.core.commands.train'['train'] at line 345: Saving model\n",
      "2018-07-05 17:12:41.181 INFO in 'deeppavlov.core.models.tf_model'['tf_model'] at line 49: [saving model to /home/temkahap/Рабочий стол/CISS/DeepPavlov/download/gobot_dstc2_simple/model]\n",
      "2018-07-05 17:12:41.289 INFO in 'deeppavlov.skills.go_bot.network'['network'] at line 297: [saving parameters to /home/temkahap/Рабочий стол/CISS/DeepPavlov/download/gobot_dstc2_simple/model.json]\n",
      "2018-07-05 17:12:41.295 INFO in 'deeppavlov.core.data.vocab'['vocab'] at line 162: [loading vocabulary from /home/temkahap/Рабочий стол/CISS/DeepPavlov/download/vocabs/token.dict]\n",
      "2018-07-05 17:12:41.296 WARNING in 'deeppavlov.core.commands.infer'['infer'] at line 41: No \"save_path\" parameter for the go_bot component, so \"load_path\" will not be renewed\n",
      "2018-07-05 17:12:41.298 INFO in 'deeppavlov.core.data.simple_vocab'['simple_vocab'] at line 94: [loading vocabulary from /home/temkahap/Рабочий стол/CISS/DeepPavlov/download/slotfill_dstc2/word.dict]\n",
      "2018-07-05 17:12:41.303 INFO in 'deeppavlov.core.data.simple_vocab'['simple_vocab'] at line 94: [loading vocabulary from /home/temkahap/Рабочий стол/CISS/DeepPavlov/download/slotfill_dstc2/tag.dict]\n"
     ]
    },
    {
     "name": "stdout",
     "output_type": "stream",
     "text": [
      "{\"valid\": {\"eval_examples_count\": 575, \"metrics\": {\"per_item_dialog_accuracy\": 0.4877}, \"time_spent\": \"0:02:33\", \"epochs_done\": 2, \"batches_seen\": 484, \"train_examples_seen\": 1934, \"impatience\": 0, \"patience_limit\": 20}}\n"
     ]
    },
    {
     "name": "stderr",
     "output_type": "stream",
     "text": [
      "2018-07-05 17:12:42.58 INFO in 'deeppavlov.core.models.tf_model'['tf_model'] at line 40: [loading model from /home/temkahap/Рабочий стол/CISS/DeepPavlov/download/slotfill_dstc2/model]\n"
     ]
    },
    {
     "name": "stdout",
     "output_type": "stream",
     "text": [
      "INFO:tensorflow:Restoring parameters from /home/temkahap/Рабочий стол/CISS/DeepPavlov/download/slotfill_dstc2/model\n"
     ]
    },
    {
     "name": "stderr",
     "output_type": "stream",
     "text": [
      "2018-07-05 17:12:42.77 INFO in 'tensorflow'['tf_logging'] at line 116: Restoring parameters from /home/temkahap/Рабочий стол/CISS/DeepPavlov/download/slotfill_dstc2/model\n",
      "2018-07-05 17:12:42.496 WARNING in 'deeppavlov.core.models.serializable'['serializable'] at line 56: No load path is set for GoalOrientedBot!\n",
      "2018-07-05 17:12:42.497 INFO in 'deeppavlov.skills.go_bot.bot'['bot'] at line 69: [loading templates from /home/temkahap/Рабочий стол/CISS/DeepPavlov/download/dstc2_v2/dstc2-templates.txt]\n",
      "2018-07-05 17:12:42.498 INFO in 'deeppavlov.skills.go_bot.bot'['bot'] at line 72: 46 templates loaded\n",
      "2018-07-05 17:12:42.499 INFO in 'deeppavlov.skills.go_bot.bot'['bot'] at line 96: Calculated input size for `GoalOrientedBotNetwork` is 511\n",
      "2018-07-05 17:12:43.147 INFO in 'deeppavlov.skills.go_bot.network'['network'] at line 52: [initializing `GoalOrientedBotNetwork` from saved]\n",
      "2018-07-05 17:12:43.148 INFO in 'deeppavlov.skills.go_bot.network'['network'] at line 303: [loading parameters from /home/temkahap/Рабочий стол/CISS/DeepPavlov/download/gobot_dstc2_simple/model.json]\n",
      "2018-07-05 17:12:43.149 INFO in 'deeppavlov.core.models.tf_model'['tf_model'] at line 40: [loading model from /home/temkahap/Рабочий стол/CISS/DeepPavlov/download/gobot_dstc2_simple/model]\n"
     ]
    },
    {
     "name": "stdout",
     "output_type": "stream",
     "text": [
      "INFO:tensorflow:Restoring parameters from /home/temkahap/Рабочий стол/CISS/DeepPavlov/download/gobot_dstc2_simple/model\n"
     ]
    },
    {
     "name": "stderr",
     "output_type": "stream",
     "text": [
      "2018-07-05 17:12:43.162 INFO in 'tensorflow'['tf_logging'] at line 116: Restoring parameters from /home/temkahap/Рабочий стол/CISS/DeepPavlov/download/gobot_dstc2_simple/model\n",
      "2018-07-05 17:12:43.207 INFO in 'deeppavlov.core.commands.train'['train'] at line 174: Testing the best saved model\n"
     ]
    },
    {
     "name": "stdout",
     "output_type": "stream",
     "text": [
      "{\"valid\": {\"eval_examples_count\": 575, \"metrics\": {\"per_item_dialog_accuracy\": 0.4877}, \"time_spent\": \"0:00:20\"}}\n",
      "{\"test\": {\"eval_examples_count\": 576, \"metrics\": {\"per_item_dialog_accuracy\": 0.4813}, \"time_spent\": \"0:00:20\"}}\n"
     ]
    }
   ],
   "source": [
    "train_evaluate_model_from_config(\"gobot/simple_config.json\")"
   ]
  },
  {
   "cell_type": "markdown",
   "metadata": {},
   "source": [
    "Let's comminicate with the resulting bot. \"exit\" message initiates end of dialogue."
   ]
  },
  {
   "cell_type": "code",
   "execution_count": 254,
   "metadata": {},
   "outputs": [
    {
     "name": "stderr",
     "output_type": "stream",
     "text": [
      "2018-07-05 17:13:22.618 INFO in 'deeppavlov.core.data.vocab'['vocab'] at line 162: [loading vocabulary from /home/temkahap/Рабочий стол/CISS/DeepPavlov/download/vocabs/token.dict]\n",
      "2018-07-05 17:13:22.624 INFO in 'deeppavlov.core.data.simple_vocab'['simple_vocab'] at line 94: [loading vocabulary from /home/temkahap/Рабочий стол/CISS/DeepPavlov/download/slotfill_dstc2/word.dict]\n",
      "2018-07-05 17:13:22.629 INFO in 'deeppavlov.core.data.simple_vocab'['simple_vocab'] at line 94: [loading vocabulary from /home/temkahap/Рабочий стол/CISS/DeepPavlov/download/slotfill_dstc2/tag.dict]\n",
      "2018-07-05 17:13:23.737 INFO in 'deeppavlov.core.models.tf_model'['tf_model'] at line 40: [loading model from /home/temkahap/Рабочий стол/CISS/DeepPavlov/download/slotfill_dstc2/model]\n"
     ]
    },
    {
     "name": "stdout",
     "output_type": "stream",
     "text": [
      "INFO:tensorflow:Restoring parameters from /home/temkahap/Рабочий стол/CISS/DeepPavlov/download/slotfill_dstc2/model\n"
     ]
    },
    {
     "name": "stderr",
     "output_type": "stream",
     "text": [
      "2018-07-05 17:13:23.752 INFO in 'tensorflow'['tf_logging'] at line 116: Restoring parameters from /home/temkahap/Рабочий стол/CISS/DeepPavlov/download/slotfill_dstc2/model\n",
      "2018-07-05 17:13:24.164 WARNING in 'deeppavlov.core.models.serializable'['serializable'] at line 56: No load path is set for GoalOrientedBot!\n",
      "2018-07-05 17:13:24.165 INFO in 'deeppavlov.skills.go_bot.bot'['bot'] at line 69: [loading templates from /home/temkahap/Рабочий стол/CISS/DeepPavlov/download/dstc2_v2/dstc2-templates.txt]\n",
      "2018-07-05 17:13:24.166 INFO in 'deeppavlov.skills.go_bot.bot'['bot'] at line 72: 46 templates loaded\n",
      "2018-07-05 17:13:24.167 INFO in 'deeppavlov.skills.go_bot.bot'['bot'] at line 96: Calculated input size for `GoalOrientedBotNetwork` is 511\n",
      "2018-07-05 17:13:24.781 INFO in 'deeppavlov.skills.go_bot.network'['network'] at line 52: [initializing `GoalOrientedBotNetwork` from saved]\n",
      "2018-07-05 17:13:24.782 INFO in 'deeppavlov.skills.go_bot.network'['network'] at line 303: [loading parameters from /home/temkahap/Рабочий стол/CISS/DeepPavlov/download/gobot_dstc2_simple/model.json]\n",
      "2018-07-05 17:13:24.783 INFO in 'deeppavlov.core.models.tf_model'['tf_model'] at line 40: [loading model from /home/temkahap/Рабочий стол/CISS/DeepPavlov/download/gobot_dstc2_simple/model]\n"
     ]
    },
    {
     "name": "stdout",
     "output_type": "stream",
     "text": [
      "INFO:tensorflow:Restoring parameters from /home/temkahap/Рабочий стол/CISS/DeepPavlov/download/gobot_dstc2_simple/model\n"
     ]
    },
    {
     "name": "stderr",
     "output_type": "stream",
     "text": [
      "2018-07-05 17:13:24.796 INFO in 'tensorflow'['tf_logging'] at line 116: Restoring parameters from /home/temkahap/Рабочий стол/CISS/DeepPavlov/download/gobot_dstc2_simple/model\n"
     ]
    }
   ],
   "source": [
    "model = build_model_from_config(simple_config)"
   ]
  },
  {
   "cell_type": "code",
   "execution_count": 255,
   "metadata": {},
   "outputs": [
    {
     "name": "stderr",
     "output_type": "stream",
     "text": [
      "2018-07-05 17:13:24.938 WARNING in 'deeppavlov.skills.go_bot.bot'['bot'] at line 345: No database specified.\n",
      "2018-07-05 17:13:24.939 INFO in 'deeppavlov.skills.go_bot.bot'['bot'] at line 346: Made api_call with {'pricerange': 'cheap', 'food': 'italian', 'area': 'north'}, got 0 results.\n"
     ]
    },
    {
     "data": {
      "text/plain": [
       "['Sorry there is no italian restaurant in the north of town.']"
      ]
     },
     "execution_count": 255,
     "metadata": {},
     "output_type": "execute_result"
    }
   ],
   "source": [
    "model(['hi, i want some cheap italian food in the north of town'])"
   ]
  },
  {
   "cell_type": "code",
   "execution_count": 256,
   "metadata": {},
   "outputs": [
    {
     "name": "stderr",
     "output_type": "stream",
     "text": [
      "2018-07-05 17:13:24.963 WARNING in 'deeppavlov.skills.go_bot.bot'['bot'] at line 345: No database specified.\n",
      "2018-07-05 17:13:24.964 INFO in 'deeppavlov.skills.go_bot.bot'['bot'] at line 346: Made api_call with {'pricerange': 'cheap', 'food': 'italian', 'area': 'north'}, got 0 results.\n"
     ]
    },
    {
     "data": {
      "text/plain": [
       "['Sorry there is no italian restaurant in the north of town.']"
      ]
     },
     "execution_count": 256,
     "metadata": {},
     "output_type": "execute_result"
    }
   ],
   "source": [
    "model(['thanks, bye'])"
   ]
  },
  {
   "cell_type": "code",
   "execution_count": 257,
   "metadata": {
    "collapsed": true
   },
   "outputs": [],
   "source": [
    "model.reset() # resetting dialog context to start a new one"
   ]
  },
  {
   "cell_type": "code",
   "execution_count": 258,
   "metadata": {},
   "outputs": [
    {
     "name": "stderr",
     "output_type": "stream",
     "text": [
      "2018-07-05 17:13:24.991 WARNING in 'deeppavlov.skills.go_bot.bot'['bot'] at line 345: No database specified.\n",
      "2018-07-05 17:13:24.991 INFO in 'deeppavlov.skills.go_bot.bot'['bot'] at line 346: Made api_call with {'pricerange': 'cheap', 'food': 'italian', 'area': 'north'}, got 0 results.\n"
     ]
    },
    {
     "name": "stdout",
     "output_type": "stream",
     "text": [
      ">> Sorry there is no italian restaurant in the north of town.\n",
      ":: exit\n"
     ]
    }
   ],
   "source": [
    "# if the cell is running, please do not run other cells in parallel -- there is a possibility of a hangup\n",
    "\n",
    "utterance = \"\"\n",
    "while utterance != 'exit':\n",
    "    print(\">> \" + model([utterance])[0])\n",
    "    utterance = input(':: ')"
   ]
  },
  {
   "cell_type": "markdown",
   "metadata": {},
   "source": [
    "The model couldn't fill some slots. For example, #address, #phone, #postcode of a restaurant couldn't be inferred from user utterance. \n",
    "\n",
    "A list of available restaurants is required."
   ]
  },
  {
   "cell_type": "markdown",
   "metadata": {},
   "source": [
    "### Model `gobot_dstc2_db`"
   ]
  },
  {
   "cell_type": "markdown",
   "metadata": {},
   "source": [
    "Now let's now add a database with restaurants and train a new model:"
   ]
  },
  {
   "cell_type": "markdown",
   "metadata": {},
   "source": [
    "Initializing new config:"
   ]
  },
  {
   "cell_type": "code",
   "execution_count": 259,
   "metadata": {
    "collapsed": true
   },
   "outputs": [],
   "source": [
    "db_config = copy.deepcopy(simple_config)\n",
    "\n",
    "db_config['chainer']['pipe'] = []"
   ]
  },
  {
   "cell_type": "markdown",
   "metadata": {},
   "source": [
    "Creating database component config:"
   ]
  },
  {
   "cell_type": "code",
   "execution_count": 260,
   "metadata": {
    "collapsed": true
   },
   "outputs": [],
   "source": [
    "db_comp_config = {\n",
    "    'name': 'sqlite_database',\n",
    "    'id': 'restaurant_database', \n",
    "    'save_path': 'dstc2_v2/resto.sqlite',\n",
    "    'primary_keys': ['name'],\n",
    "    'table_name': 'mytable'\n",
    "}"
   ]
  },
  {
   "cell_type": "markdown",
   "metadata": {},
   "source": [
    "Adding vocab and database components to pipe:"
   ]
  },
  {
   "cell_type": "code",
   "execution_count": 261,
   "metadata": {
    "collapsed": true
   },
   "outputs": [],
   "source": [
    "db_config['chainer']['pipe'].append(vocab_comp_config)\n",
    "db_config['chainer']['pipe'].append(db_comp_config)"
   ]
  },
  {
   "cell_type": "markdown",
   "metadata": {},
   "source": [
    "Initializing bot component config:"
   ]
  },
  {
   "cell_type": "code",
   "execution_count": 262,
   "metadata": {
    "collapsed": true
   },
   "outputs": [],
   "source": [
    "bot_with_db_comp_config = copy.deepcopy(bot_comp_config)"
   ]
  },
  {
   "cell_type": "markdown",
   "metadata": {},
   "source": [
    "**WARNING:** Do no forget to change `load_path` and `save_path` in neural network configuration when \n",
    "             training a new modification. Otherwise previous model's files will be overwritten."
   ]
  },
  {
   "cell_type": "code",
   "execution_count": 263,
   "metadata": {
    "collapsed": true
   },
   "outputs": [],
   "source": [
    "bot_with_db_comp_config['network_parameters']['load_path'] = 'gobot_dstc2_db/model'\n",
    "bot_with_db_comp_config['network_parameters']['save_path'] = 'gobot_dstc2_db/model'"
   ]
  },
  {
   "cell_type": "markdown",
   "metadata": {},
   "source": [
    "Adding database to bot component config:"
   ]
  },
  {
   "cell_type": "code",
   "execution_count": 264,
   "metadata": {
    "collapsed": true
   },
   "outputs": [],
   "source": [
    "bot_with_db_comp_config['database'] = '#restaurant_database'"
   ]
  },
  {
   "cell_type": "markdown",
   "metadata": {},
   "source": [
    "Addind bot component to pipe:"
   ]
  },
  {
   "cell_type": "code",
   "execution_count": 265,
   "metadata": {
    "collapsed": true
   },
   "outputs": [],
   "source": [
    "db_config['chainer']['pipe'].append(bot_with_db_comp_config)"
   ]
  },
  {
   "cell_type": "code",
   "execution_count": 266,
   "metadata": {
    "collapsed": true
   },
   "outputs": [],
   "source": [
    "json.dump(db_config, open(\"gobot/db_config.json\", 'wt'))"
   ]
  },
  {
   "cell_type": "markdown",
   "metadata": {},
   "source": [
    "The new model now updates dialog state not only with entity values mentioned by user (\"i want cheap food\" -> {'pricerange': 'cheap'}), but also with restaurant info taken from sql database of restaurants.\n",
    "\n",
    "Model has a special action `api_call_action`, which initiates a request to sql database with current dialog state and thus receives info of a single matching restaurant.\n",
    "\n",
    "So now such slots as #address, #phone and #postcode can be filled in bot responses."
   ]
  },
  {
   "cell_type": "code",
   "execution_count": 267,
   "metadata": {},
   "outputs": [
    {
     "name": "stderr",
     "output_type": "stream",
     "text": [
      "2018-07-05 17:13:48.895 INFO in 'deeppavlov.dataset_readers.dstc2_reader'['dstc2_reader'] at line 214: [loading dialogs from /home/temkahap/Рабочий стол/CISS/DeepPavlov/download/dstc2_v2/dstc2-trn.jsonlist]\n",
      "2018-07-05 17:13:49.392 INFO in 'deeppavlov.dataset_readers.dstc2_reader'['dstc2_reader'] at line 214: [loading dialogs from /home/temkahap/Рабочий стол/CISS/DeepPavlov/download/dstc2_v2/dstc2-val.jsonlist]\n",
      "2018-07-05 17:13:49.536 INFO in 'deeppavlov.dataset_readers.dstc2_reader'['dstc2_reader'] at line 214: [loading dialogs from /home/temkahap/Рабочий стол/CISS/DeepPavlov/download/dstc2_v2/dstc2-tst.jsonlist]\n",
      "2018-07-05 17:13:50.38 INFO in 'deeppavlov.core.data.vocab'['vocab'] at line 162: [loading vocabulary from /home/temkahap/Рабочий стол/CISS/DeepPavlov/download/vocabs/token.dict]\n",
      "2018-07-05 17:13:50.75 INFO in 'deeppavlov.core.data.vocab'['vocab'] at line 150: [saving vocabulary to /home/temkahap/Рабочий стол/CISS/DeepPavlov/download/vocabs/token.dict]\n",
      "2018-07-05 17:13:50.77 WARNING in 'deeppavlov.core.models.serializable'['serializable'] at line 56: No load path is set for Sqlite3Database!\n",
      "2018-07-05 17:13:50.78 INFO in 'deeppavlov.core.data.sqlite_database'['sqlite_database'] at line 57: Loading database from /home/temkahap/Рабочий стол/CISS/DeepPavlov/download/dstc2_v2/resto.sqlite.\n",
      "2018-07-05 17:13:50.81 INFO in 'deeppavlov.core.data.simple_vocab'['simple_vocab'] at line 94: [loading vocabulary from /home/temkahap/Рабочий стол/CISS/DeepPavlov/download/slotfill_dstc2/word.dict]\n",
      "2018-07-05 17:13:50.87 INFO in 'deeppavlov.core.data.simple_vocab'['simple_vocab'] at line 94: [loading vocabulary from /home/temkahap/Рабочий стол/CISS/DeepPavlov/download/slotfill_dstc2/tag.dict]\n",
      "2018-07-05 17:13:51.25 INFO in 'deeppavlov.core.models.tf_model'['tf_model'] at line 40: [loading model from /home/temkahap/Рабочий стол/CISS/DeepPavlov/download/slotfill_dstc2/model]\n"
     ]
    },
    {
     "name": "stdout",
     "output_type": "stream",
     "text": [
      "INFO:tensorflow:Restoring parameters from /home/temkahap/Рабочий стол/CISS/DeepPavlov/download/slotfill_dstc2/model\n"
     ]
    },
    {
     "name": "stderr",
     "output_type": "stream",
     "text": [
      "2018-07-05 17:13:51.45 INFO in 'tensorflow'['tf_logging'] at line 116: Restoring parameters from /home/temkahap/Рабочий стол/CISS/DeepPavlov/download/slotfill_dstc2/model\n",
      "2018-07-05 17:13:51.494 WARNING in 'deeppavlov.core.models.serializable'['serializable'] at line 56: No load path is set for GoalOrientedBot!\n",
      "2018-07-05 17:13:51.495 INFO in 'deeppavlov.skills.go_bot.bot'['bot'] at line 69: [loading templates from /home/temkahap/Рабочий стол/CISS/DeepPavlov/download/dstc2_v2/dstc2-templates.txt]\n",
      "2018-07-05 17:13:51.496 INFO in 'deeppavlov.skills.go_bot.bot'['bot'] at line 72: 46 templates loaded\n",
      "2018-07-05 17:13:51.496 INFO in 'deeppavlov.skills.go_bot.bot'['bot'] at line 96: Calculated input size for `GoalOrientedBotNetwork` is 511\n",
      "2018-07-05 17:13:52.152 INFO in 'deeppavlov.skills.go_bot.network'['network'] at line 52: [initializing `GoalOrientedBotNetwork` from saved]\n",
      "2018-07-05 17:13:52.153 INFO in 'deeppavlov.skills.go_bot.network'['network'] at line 303: [loading parameters from /home/temkahap/Рабочий стол/CISS/DeepPavlov/download/gobot_dstc2_db/model.json]\n",
      "2018-07-05 17:13:52.157 INFO in 'deeppavlov.core.models.tf_model'['tf_model'] at line 40: [loading model from /home/temkahap/Рабочий стол/CISS/DeepPavlov/download/gobot_dstc2_db/model]\n"
     ]
    },
    {
     "name": "stdout",
     "output_type": "stream",
     "text": [
      "INFO:tensorflow:Restoring parameters from /home/temkahap/Рабочий стол/CISS/DeepPavlov/download/gobot_dstc2_db/model\n"
     ]
    },
    {
     "name": "stderr",
     "output_type": "stream",
     "text": [
      "2018-07-05 17:13:52.169 INFO in 'tensorflow'['tf_logging'] at line 116: Restoring parameters from /home/temkahap/Рабочий стол/CISS/DeepPavlov/download/gobot_dstc2_db/model\n",
      "2018-07-05 17:14:46.50 INFO in 'deeppavlov.skills.go_bot.network'['network'] at line 315: Updating global step, learning rate = 0.002000.\n"
     ]
    },
    {
     "name": "stdout",
     "output_type": "stream",
     "text": [
      "{\"train\": {\"epochs_done\": 1, \"batches_seen\": 242, \"train_examples_seen\": 967, \"metrics\": {\"per_item_dialog_accuracy\": 0.6032}, \"time_spent\": \"0:00:54\"}}\n"
     ]
    },
    {
     "name": "stderr",
     "output_type": "stream",
     "text": [
      "2018-07-05 17:15:05.624 INFO in 'deeppavlov.core.commands.train'['train'] at line 343: New best per_item_dialog_accuracy of 0.4882\n",
      "2018-07-05 17:15:05.625 INFO in 'deeppavlov.core.commands.train'['train'] at line 345: Saving model\n",
      "2018-07-05 17:15:05.626 INFO in 'deeppavlov.core.models.tf_model'['tf_model'] at line 49: [saving model to /home/temkahap/Рабочий стол/CISS/DeepPavlov/download/gobot_dstc2_db/model]\n",
      "2018-07-05 17:15:05.749 INFO in 'deeppavlov.skills.go_bot.network'['network'] at line 297: [saving parameters to /home/temkahap/Рабочий стол/CISS/DeepPavlov/download/gobot_dstc2_db/model.json]\n"
     ]
    },
    {
     "name": "stdout",
     "output_type": "stream",
     "text": [
      "{\"valid\": {\"eval_examples_count\": 575, \"metrics\": {\"per_item_dialog_accuracy\": 0.4882}, \"time_spent\": \"0:01:14\", \"epochs_done\": 1, \"batches_seen\": 242, \"train_examples_seen\": 967, \"impatience\": 0, \"patience_limit\": 20}}\n"
     ]
    },
    {
     "name": "stderr",
     "output_type": "stream",
     "text": [
      "2018-07-05 17:15:59.705 INFO in 'deeppavlov.skills.go_bot.network'['network'] at line 315: Updating global step, learning rate = 0.002000.\n"
     ]
    },
    {
     "name": "stdout",
     "output_type": "stream",
     "text": [
      "{\"train\": {\"epochs_done\": 2, \"batches_seen\": 484, \"train_examples_seen\": 1934, \"metrics\": {\"per_item_dialog_accuracy\": 0.6167}, \"time_spent\": \"0:02:08\"}}\n"
     ]
    },
    {
     "name": "stderr",
     "output_type": "stream",
     "text": [
      "2018-07-05 17:16:20.68 INFO in 'deeppavlov.core.commands.train'['train'] at line 350: Did not improve on the per_item_dialog_accuracy of 0.4882\n",
      "2018-07-05 17:16:20.70 INFO in 'deeppavlov.core.data.vocab'['vocab'] at line 162: [loading vocabulary from /home/temkahap/Рабочий стол/CISS/DeepPavlov/download/vocabs/token.dict]\n",
      "2018-07-05 17:16:20.72 WARNING in 'deeppavlov.core.models.serializable'['serializable'] at line 53: No load path is set for Sqlite3Database in 'infer' mode. Using save path instead\n",
      "2018-07-05 17:16:20.73 INFO in 'deeppavlov.core.data.sqlite_database'['sqlite_database'] at line 57: Loading database from /home/temkahap/Рабочий стол/CISS/DeepPavlov/download/dstc2_v2/resto.sqlite.\n",
      "2018-07-05 17:16:20.73 WARNING in 'deeppavlov.core.commands.infer'['infer'] at line 41: No \"save_path\" parameter for the go_bot component, so \"load_path\" will not be renewed\n",
      "2018-07-05 17:16:20.75 INFO in 'deeppavlov.core.data.simple_vocab'['simple_vocab'] at line 94: [loading vocabulary from /home/temkahap/Рабочий стол/CISS/DeepPavlov/download/slotfill_dstc2/word.dict]\n",
      "2018-07-05 17:16:20.79 INFO in 'deeppavlov.core.data.simple_vocab'['simple_vocab'] at line 94: [loading vocabulary from /home/temkahap/Рабочий стол/CISS/DeepPavlov/download/slotfill_dstc2/tag.dict]\n"
     ]
    },
    {
     "name": "stdout",
     "output_type": "stream",
     "text": [
      "{\"valid\": {\"eval_examples_count\": 575, \"metrics\": {\"per_item_dialog_accuracy\": 0.4768}, \"time_spent\": \"0:02:28\", \"epochs_done\": 2, \"batches_seen\": 484, \"train_examples_seen\": 1934, \"impatience\": 1, \"patience_limit\": 20}}\n"
     ]
    },
    {
     "name": "stderr",
     "output_type": "stream",
     "text": [
      "2018-07-05 17:16:21.202 INFO in 'deeppavlov.core.models.tf_model'['tf_model'] at line 40: [loading model from /home/temkahap/Рабочий стол/CISS/DeepPavlov/download/slotfill_dstc2/model]\n"
     ]
    },
    {
     "name": "stdout",
     "output_type": "stream",
     "text": [
      "INFO:tensorflow:Restoring parameters from /home/temkahap/Рабочий стол/CISS/DeepPavlov/download/slotfill_dstc2/model\n"
     ]
    },
    {
     "name": "stderr",
     "output_type": "stream",
     "text": [
      "2018-07-05 17:16:21.217 INFO in 'tensorflow'['tf_logging'] at line 116: Restoring parameters from /home/temkahap/Рабочий стол/CISS/DeepPavlov/download/slotfill_dstc2/model\n",
      "2018-07-05 17:16:21.645 WARNING in 'deeppavlov.core.models.serializable'['serializable'] at line 56: No load path is set for GoalOrientedBot!\n",
      "2018-07-05 17:16:21.646 INFO in 'deeppavlov.skills.go_bot.bot'['bot'] at line 69: [loading templates from /home/temkahap/Рабочий стол/CISS/DeepPavlov/download/dstc2_v2/dstc2-templates.txt]\n",
      "2018-07-05 17:16:21.647 INFO in 'deeppavlov.skills.go_bot.bot'['bot'] at line 72: 46 templates loaded\n",
      "2018-07-05 17:16:21.647 INFO in 'deeppavlov.skills.go_bot.bot'['bot'] at line 96: Calculated input size for `GoalOrientedBotNetwork` is 511\n",
      "2018-07-05 17:16:22.321 INFO in 'deeppavlov.skills.go_bot.network'['network'] at line 52: [initializing `GoalOrientedBotNetwork` from saved]\n",
      "2018-07-05 17:16:22.322 INFO in 'deeppavlov.skills.go_bot.network'['network'] at line 303: [loading parameters from /home/temkahap/Рабочий стол/CISS/DeepPavlov/download/gobot_dstc2_db/model.json]\n",
      "2018-07-05 17:16:22.325 INFO in 'deeppavlov.core.models.tf_model'['tf_model'] at line 40: [loading model from /home/temkahap/Рабочий стол/CISS/DeepPavlov/download/gobot_dstc2_db/model]\n"
     ]
    },
    {
     "name": "stdout",
     "output_type": "stream",
     "text": [
      "INFO:tensorflow:Restoring parameters from /home/temkahap/Рабочий стол/CISS/DeepPavlov/download/gobot_dstc2_db/model\n"
     ]
    },
    {
     "name": "stderr",
     "output_type": "stream",
     "text": [
      "2018-07-05 17:16:22.342 INFO in 'tensorflow'['tf_logging'] at line 116: Restoring parameters from /home/temkahap/Рабочий стол/CISS/DeepPavlov/download/gobot_dstc2_db/model\n",
      "2018-07-05 17:16:22.396 INFO in 'deeppavlov.core.commands.train'['train'] at line 174: Testing the best saved model\n"
     ]
    },
    {
     "name": "stdout",
     "output_type": "stream",
     "text": [
      "{\"valid\": {\"eval_examples_count\": 575, \"metrics\": {\"per_item_dialog_accuracy\": 0.4882}, \"time_spent\": \"0:00:21\"}}\n",
      "{\"test\": {\"eval_examples_count\": 576, \"metrics\": {\"per_item_dialog_accuracy\": 0.4861}, \"time_spent\": \"0:00:21\"}}\n"
     ]
    }
   ],
   "source": [
    "train_evaluate_model_from_config(\"gobot/db_config.json\")"
   ]
  },
  {
   "cell_type": "code",
   "execution_count": 268,
   "metadata": {},
   "outputs": [
    {
     "name": "stderr",
     "output_type": "stream",
     "text": [
      "2018-07-05 17:17:03.586 INFO in 'deeppavlov.core.data.vocab'['vocab'] at line 162: [loading vocabulary from /home/temkahap/Рабочий стол/CISS/DeepPavlov/download/vocabs/token.dict]\n",
      "2018-07-05 17:17:03.588 WARNING in 'deeppavlov.core.models.serializable'['serializable'] at line 53: No load path is set for Sqlite3Database in 'infer' mode. Using save path instead\n",
      "2018-07-05 17:17:03.589 INFO in 'deeppavlov.core.data.sqlite_database'['sqlite_database'] at line 57: Loading database from /home/temkahap/Рабочий стол/CISS/DeepPavlov/download/dstc2_v2/resto.sqlite.\n",
      "2018-07-05 17:17:03.592 INFO in 'deeppavlov.core.data.simple_vocab'['simple_vocab'] at line 94: [loading vocabulary from /home/temkahap/Рабочий стол/CISS/DeepPavlov/download/slotfill_dstc2/word.dict]\n",
      "2018-07-05 17:17:03.597 INFO in 'deeppavlov.core.data.simple_vocab'['simple_vocab'] at line 94: [loading vocabulary from /home/temkahap/Рабочий стол/CISS/DeepPavlov/download/slotfill_dstc2/tag.dict]\n",
      "2018-07-05 17:17:04.475 INFO in 'deeppavlov.core.models.tf_model'['tf_model'] at line 40: [loading model from /home/temkahap/Рабочий стол/CISS/DeepPavlov/download/slotfill_dstc2/model]\n"
     ]
    },
    {
     "name": "stdout",
     "output_type": "stream",
     "text": [
      "INFO:tensorflow:Restoring parameters from /home/temkahap/Рабочий стол/CISS/DeepPavlov/download/slotfill_dstc2/model\n"
     ]
    },
    {
     "name": "stderr",
     "output_type": "stream",
     "text": [
      "2018-07-05 17:17:04.495 INFO in 'tensorflow'['tf_logging'] at line 116: Restoring parameters from /home/temkahap/Рабочий стол/CISS/DeepPavlov/download/slotfill_dstc2/model\n",
      "2018-07-05 17:17:04.912 WARNING in 'deeppavlov.core.models.serializable'['serializable'] at line 56: No load path is set for GoalOrientedBot!\n",
      "2018-07-05 17:17:04.912 INFO in 'deeppavlov.skills.go_bot.bot'['bot'] at line 69: [loading templates from /home/temkahap/Рабочий стол/CISS/DeepPavlov/download/dstc2_v2/dstc2-templates.txt]\n",
      "2018-07-05 17:17:04.913 INFO in 'deeppavlov.skills.go_bot.bot'['bot'] at line 72: 46 templates loaded\n",
      "2018-07-05 17:17:04.914 INFO in 'deeppavlov.skills.go_bot.bot'['bot'] at line 96: Calculated input size for `GoalOrientedBotNetwork` is 511\n",
      "2018-07-05 17:17:05.973 INFO in 'deeppavlov.skills.go_bot.network'['network'] at line 52: [initializing `GoalOrientedBotNetwork` from saved]\n",
      "2018-07-05 17:17:05.974 INFO in 'deeppavlov.skills.go_bot.network'['network'] at line 303: [loading parameters from /home/temkahap/Рабочий стол/CISS/DeepPavlov/download/gobot_dstc2_db/model.json]\n",
      "2018-07-05 17:17:05.976 INFO in 'deeppavlov.core.models.tf_model'['tf_model'] at line 40: [loading model from /home/temkahap/Рабочий стол/CISS/DeepPavlov/download/gobot_dstc2_db/model]\n"
     ]
    },
    {
     "name": "stdout",
     "output_type": "stream",
     "text": [
      "INFO:tensorflow:Restoring parameters from /home/temkahap/Рабочий стол/CISS/DeepPavlov/download/gobot_dstc2_db/model\n"
     ]
    },
    {
     "name": "stderr",
     "output_type": "stream",
     "text": [
      "2018-07-05 17:17:05.985 INFO in 'tensorflow'['tf_logging'] at line 116: Restoring parameters from /home/temkahap/Рабочий стол/CISS/DeepPavlov/download/gobot_dstc2_db/model\n"
     ]
    }
   ],
   "source": [
    "model = build_model_from_config(db_config)"
   ]
  },
  {
   "cell_type": "code",
   "execution_count": 152,
   "metadata": {
    "collapsed": true
   },
   "outputs": [
    {
     "name": "stdout",
     "output_type": "stream",
     "text": [
      ">> Hello, welcome to the Cambridge restaurant system. You can ask for restaurants by area, price range or food type. How may I help you?\n",
      ":: hello\n",
      ">> Hello, welcome to the Cambridge restaurant system. You can ask for restaurants by area, price range or food type. How may I help you?\n",
      ":: frecnh restaurant\n",
      ">> Hello, welcome to the Cambridge restaurant system. You can ask for restaurants by area, price range or food type. How may I help you?\n",
      ":: Is there french restaurant?\n",
      ">> Hello, welcome to the Cambridge restaurant system. You can ask for restaurants by area, price range or food type. How may I help you?\n",
      ":: \n",
      ">> Hello, welcome to the Cambridge restaurant system. You can ask for restaurants by area, price range or food type. How may I help you?\n",
      ":: \n",
      ">> Hello, welcome to the Cambridge restaurant system. You can ask for restaurants by area, price range or food type. How may I help you?\n"
     ]
    },
    {
     "ename": "KeyboardInterrupt",
     "evalue": "",
     "output_type": "error",
     "traceback": [
      "\u001b[0;31m---------------------------------------------------------------------------\u001b[0m",
      "\u001b[0;31mKeyboardInterrupt\u001b[0m                         Traceback (most recent call last)",
      "\u001b[0;32m~/anaconda3/lib/python3.6/site-packages/ipykernel/kernelbase.py\u001b[0m in \u001b[0;36m_input_request\u001b[0;34m(self, prompt, ident, parent, password)\u001b[0m\n\u001b[1;32m    729\u001b[0m             \u001b[0;32mtry\u001b[0m\u001b[0;34m:\u001b[0m\u001b[0;34m\u001b[0m\u001b[0m\n\u001b[0;32m--> 730\u001b[0;31m                 \u001b[0mident\u001b[0m\u001b[0;34m,\u001b[0m \u001b[0mreply\u001b[0m \u001b[0;34m=\u001b[0m \u001b[0mself\u001b[0m\u001b[0;34m.\u001b[0m\u001b[0msession\u001b[0m\u001b[0;34m.\u001b[0m\u001b[0mrecv\u001b[0m\u001b[0;34m(\u001b[0m\u001b[0mself\u001b[0m\u001b[0;34m.\u001b[0m\u001b[0mstdin_socket\u001b[0m\u001b[0;34m,\u001b[0m \u001b[0;36m0\u001b[0m\u001b[0;34m)\u001b[0m\u001b[0;34m\u001b[0m\u001b[0m\n\u001b[0m\u001b[1;32m    731\u001b[0m             \u001b[0;32mexcept\u001b[0m \u001b[0mException\u001b[0m\u001b[0;34m:\u001b[0m\u001b[0;34m\u001b[0m\u001b[0m\n",
      "\u001b[0;32m~/anaconda3/lib/python3.6/site-packages/jupyter_client/session.py\u001b[0m in \u001b[0;36mrecv\u001b[0;34m(self, socket, mode, content, copy)\u001b[0m\n\u001b[1;32m    795\u001b[0m         \u001b[0;32mtry\u001b[0m\u001b[0;34m:\u001b[0m\u001b[0;34m\u001b[0m\u001b[0m\n\u001b[0;32m--> 796\u001b[0;31m             \u001b[0mmsg_list\u001b[0m \u001b[0;34m=\u001b[0m \u001b[0msocket\u001b[0m\u001b[0;34m.\u001b[0m\u001b[0mrecv_multipart\u001b[0m\u001b[0;34m(\u001b[0m\u001b[0mmode\u001b[0m\u001b[0;34m,\u001b[0m \u001b[0mcopy\u001b[0m\u001b[0;34m=\u001b[0m\u001b[0mcopy\u001b[0m\u001b[0;34m)\u001b[0m\u001b[0;34m\u001b[0m\u001b[0m\n\u001b[0m\u001b[1;32m    797\u001b[0m         \u001b[0;32mexcept\u001b[0m \u001b[0mzmq\u001b[0m\u001b[0;34m.\u001b[0m\u001b[0mZMQError\u001b[0m \u001b[0;32mas\u001b[0m \u001b[0me\u001b[0m\u001b[0;34m:\u001b[0m\u001b[0;34m\u001b[0m\u001b[0m\n",
      "\u001b[0;32m~/anaconda3/lib/python3.6/site-packages/zmq/sugar/socket.py\u001b[0m in \u001b[0;36mrecv_multipart\u001b[0;34m(self, flags, copy, track)\u001b[0m\n\u001b[1;32m    394\u001b[0m         \"\"\"\n\u001b[0;32m--> 395\u001b[0;31m         \u001b[0mparts\u001b[0m \u001b[0;34m=\u001b[0m \u001b[0;34m[\u001b[0m\u001b[0mself\u001b[0m\u001b[0;34m.\u001b[0m\u001b[0mrecv\u001b[0m\u001b[0;34m(\u001b[0m\u001b[0mflags\u001b[0m\u001b[0;34m,\u001b[0m \u001b[0mcopy\u001b[0m\u001b[0;34m=\u001b[0m\u001b[0mcopy\u001b[0m\u001b[0;34m,\u001b[0m \u001b[0mtrack\u001b[0m\u001b[0;34m=\u001b[0m\u001b[0mtrack\u001b[0m\u001b[0;34m)\u001b[0m\u001b[0;34m]\u001b[0m\u001b[0;34m\u001b[0m\u001b[0m\n\u001b[0m\u001b[1;32m    396\u001b[0m         \u001b[0;31m# have first part already, only loop while more to receive\u001b[0m\u001b[0;34m\u001b[0m\u001b[0;34m\u001b[0m\u001b[0m\n",
      "\u001b[0;32mzmq/backend/cython/socket.pyx\u001b[0m in \u001b[0;36mzmq.backend.cython.socket.Socket.recv (zmq/backend/cython/socket.c:7683)\u001b[0;34m()\u001b[0m\n",
      "\u001b[0;32mzmq/backend/cython/socket.pyx\u001b[0m in \u001b[0;36mzmq.backend.cython.socket.Socket.recv (zmq/backend/cython/socket.c:7460)\u001b[0;34m()\u001b[0m\n",
      "\u001b[0;32mzmq/backend/cython/socket.pyx\u001b[0m in \u001b[0;36mzmq.backend.cython.socket._recv_copy (zmq/backend/cython/socket.c:2344)\u001b[0;34m()\u001b[0m\n",
      "\u001b[0;32m~/anaconda3/lib/python3.6/site-packages/zmq/backend/cython/checkrc.pxd\u001b[0m in \u001b[0;36mzmq.backend.cython.checkrc._check_rc (zmq/backend/cython/socket.c:9621)\u001b[0;34m()\u001b[0m\n",
      "\u001b[0;31mKeyboardInterrupt\u001b[0m: ",
      "\nDuring handling of the above exception, another exception occurred:\n",
      "\u001b[0;31mKeyboardInterrupt\u001b[0m                         Traceback (most recent call last)",
      "\u001b[0;32m<ipython-input-152-3f77a8eda7f9>\u001b[0m in \u001b[0;36m<module>\u001b[0;34m()\u001b[0m\n\u001b[1;32m      6\u001b[0m \u001b[0;32mwhile\u001b[0m \u001b[0mutterance\u001b[0m \u001b[0;34m!=\u001b[0m \u001b[0;34m'exit'\u001b[0m\u001b[0;34m:\u001b[0m\u001b[0;34m\u001b[0m\u001b[0m\n\u001b[1;32m      7\u001b[0m     \u001b[0mprint\u001b[0m\u001b[0;34m(\u001b[0m\u001b[0;34m\">> \"\u001b[0m \u001b[0;34m+\u001b[0m \u001b[0mmodel\u001b[0m\u001b[0;34m(\u001b[0m\u001b[0;34m[\u001b[0m\u001b[0mutterance\u001b[0m\u001b[0;34m]\u001b[0m\u001b[0;34m)\u001b[0m\u001b[0;34m[\u001b[0m\u001b[0;36m0\u001b[0m\u001b[0;34m]\u001b[0m\u001b[0;34m)\u001b[0m\u001b[0;34m\u001b[0m\u001b[0m\n\u001b[0;32m----> 8\u001b[0;31m     \u001b[0mutterance\u001b[0m \u001b[0;34m=\u001b[0m \u001b[0minput\u001b[0m\u001b[0;34m(\u001b[0m\u001b[0;34m':: '\u001b[0m\u001b[0;34m)\u001b[0m\u001b[0;34m\u001b[0m\u001b[0m\n\u001b[0m",
      "\u001b[0;32m~/anaconda3/lib/python3.6/site-packages/ipykernel/kernelbase.py\u001b[0m in \u001b[0;36mraw_input\u001b[0;34m(self, prompt)\u001b[0m\n\u001b[1;32m    703\u001b[0m             \u001b[0mself\u001b[0m\u001b[0;34m.\u001b[0m\u001b[0m_parent_ident\u001b[0m\u001b[0;34m,\u001b[0m\u001b[0;34m\u001b[0m\u001b[0m\n\u001b[1;32m    704\u001b[0m             \u001b[0mself\u001b[0m\u001b[0;34m.\u001b[0m\u001b[0m_parent_header\u001b[0m\u001b[0;34m,\u001b[0m\u001b[0;34m\u001b[0m\u001b[0m\n\u001b[0;32m--> 705\u001b[0;31m             \u001b[0mpassword\u001b[0m\u001b[0;34m=\u001b[0m\u001b[0;32mFalse\u001b[0m\u001b[0;34m,\u001b[0m\u001b[0;34m\u001b[0m\u001b[0m\n\u001b[0m\u001b[1;32m    706\u001b[0m         )\n\u001b[1;32m    707\u001b[0m \u001b[0;34m\u001b[0m\u001b[0m\n",
      "\u001b[0;32m~/anaconda3/lib/python3.6/site-packages/ipykernel/kernelbase.py\u001b[0m in \u001b[0;36m_input_request\u001b[0;34m(self, prompt, ident, parent, password)\u001b[0m\n\u001b[1;32m    733\u001b[0m             \u001b[0;32mexcept\u001b[0m \u001b[0mKeyboardInterrupt\u001b[0m\u001b[0;34m:\u001b[0m\u001b[0;34m\u001b[0m\u001b[0m\n\u001b[1;32m    734\u001b[0m                 \u001b[0;31m# re-raise KeyboardInterrupt, to truncate traceback\u001b[0m\u001b[0;34m\u001b[0m\u001b[0;34m\u001b[0m\u001b[0m\n\u001b[0;32m--> 735\u001b[0;31m                 \u001b[0;32mraise\u001b[0m \u001b[0mKeyboardInterrupt\u001b[0m\u001b[0;34m\u001b[0m\u001b[0m\n\u001b[0m\u001b[1;32m    736\u001b[0m             \u001b[0;32melse\u001b[0m\u001b[0;34m:\u001b[0m\u001b[0;34m\u001b[0m\u001b[0m\n\u001b[1;32m    737\u001b[0m                 \u001b[0;32mbreak\u001b[0m\u001b[0;34m\u001b[0m\u001b[0m\n",
      "\u001b[0;31mKeyboardInterrupt\u001b[0m: "
     ]
    }
   ],
   "source": [
    "# if the cell is running, please do not run other cells in parallel -- there is a possibility of a hangup\n",
    "\n",
    "model.reset() # starting new dialog\n",
    "\n",
    "utterance = \"\"\n",
    "while utterance != 'exit':\n",
    "    print(\">> \" + model([utterance])[0])\n",
    "    utterance = input(':: ')"
   ]
  },
  {
   "cell_type": "markdown",
   "metadata": {},
   "source": [
    "### Model `gobot_dstc2_emb`"
   ]
  },
  {
   "cell_type": "markdown",
   "metadata": {},
   "source": [
    "Now let's train a goal-oriented bot with fasttext embeddings:\n",
    "\n",
    "**NOTICE:** YOU NEED TO CONSTRUCT A NEW CONFIG YOURSELF"
   ]
  },
  {
   "cell_type": "markdown",
   "metadata": {},
   "source": [
    "Initalizing new config:"
   ]
  },
  {
   "cell_type": "code",
   "execution_count": 275,
   "metadata": {},
   "outputs": [
    {
     "data": {
      "text/plain": [
       "{'chainer': {'in': ['x'], 'in_y': ['y'], 'out': ['y_predicted'], 'pipe': []},\n",
       " 'dataset_iterator': {'name': 'dialog_iterator'},\n",
       " 'dataset_reader': {'data_path': 'dstc2_v2', 'name': 'dstc2_v2_reader'},\n",
       " 'metadata': {'download': [{'subdir': 'dstc2_v2',\n",
       "    'url': 'http://lnsigo.mipt.ru/export/datasets/dstc2_v2.tar.gz'}]},\n",
       " 'train': {'batch_size': 4,\n",
       "  'epochs': 2,\n",
       "  'log_every_n_batches': -1,\n",
       "  'log_every_n_epochs': 1,\n",
       "  'metrics': ['per_item_dialog_accuracy'],\n",
       "  'val_every_n_epochs': 1,\n",
       "  'validation_patience': 20}}"
      ]
     },
     "execution_count": 275,
     "metadata": {},
     "output_type": "execute_result"
    }
   ],
   "source": [
    "emb_config = copy.deepcopy(db_config)\n",
    "\n",
    "emb_config['chainer']['pipe'] = []\n",
    "emb_config"
   ]
  },
  {
   "cell_type": "markdown",
   "metadata": {},
   "source": [
    "Adding vocab component to chainer pipe:"
   ]
  },
  {
   "cell_type": "code",
   "execution_count": 276,
   "metadata": {},
   "outputs": [
    {
     "data": {
      "text/plain": [
       "[{'fit_on': ['x'],\n",
       "  'id': 'token_vocab',\n",
       "  'level': 'token',\n",
       "  'load_path': 'vocabs/token.dict',\n",
       "  'name': 'default_vocab',\n",
       "  'save_path': 'vocabs/token.dict',\n",
       "  'tokenizer': {'name': 'split_tokenizer'}}]"
      ]
     },
     "execution_count": 276,
     "metadata": {},
     "output_type": "execute_result"
    }
   ],
   "source": [
    "emb_config['chainer']['pipe'].append(vocab_comp_config)\n",
    "emb_config['chainer']['pipe']"
   ]
  },
  {
   "cell_type": "markdown",
   "metadata": {},
   "source": [
    "Initalizing embedder component:"
   ]
  },
  {
   "cell_type": "code",
   "execution_count": 277,
   "metadata": {
    "collapsed": true
   },
   "outputs": [],
   "source": [
    "embedder_comp_config = {\n",
    "    'id': 'my_embedder',\n",
    "    'name': 'fasttext',\n",
    "    'load_path': 'embeddings/dstc2_fastText_model.bin',\n",
    "    'save_path': 'embeddings/dstc2_fastText_model.bin',\n",
    "    'dim': 100\n",
    "}"
   ]
  },
  {
   "cell_type": "code",
   "execution_count": 278,
   "metadata": {
    "collapsed": true
   },
   "outputs": [],
   "source": [
    "# TODO: add embedder component to chainer pipe\n",
    "emb_config['chainer']['pipe'].append(embedder_comp_config)"
   ]
  },
  {
   "cell_type": "code",
   "execution_count": 281,
   "metadata": {},
   "outputs": [
    {
     "data": {
      "text/plain": [
       "{'chainer': {'in': ['x'],\n",
       "  'in_y': ['y'],\n",
       "  'out': ['y_predicted'],\n",
       "  'pipe': [{'fit_on': ['x'],\n",
       "    'id': 'token_vocab',\n",
       "    'level': 'token',\n",
       "    'load_path': 'vocabs/token.dict',\n",
       "    'name': 'default_vocab',\n",
       "    'save_path': 'vocabs/token.dict',\n",
       "    'tokenizer': {'name': 'split_tokenizer'}},\n",
       "   {'dim': 100,\n",
       "    'id': 'my_embedder',\n",
       "    'load_path': 'embeddings/dstc2_fastText_model.bin',\n",
       "    'name': 'fasttext',\n",
       "    'save_path': 'embeddings/dstc2_fastText_model.bin'}]},\n",
       " 'dataset_iterator': {'name': 'dialog_iterator'},\n",
       " 'dataset_reader': {'data_path': 'dstc2_v2', 'name': 'dstc2_v2_reader'},\n",
       " 'metadata': {'download': [{'subdir': 'dstc2_v2',\n",
       "    'url': 'http://lnsigo.mipt.ru/export/datasets/dstc2_v2.tar.gz'}]},\n",
       " 'train': {'batch_size': 4,\n",
       "  'epochs': 2,\n",
       "  'log_every_n_batches': -1,\n",
       "  'log_every_n_epochs': 1,\n",
       "  'metrics': ['per_item_dialog_accuracy'],\n",
       "  'val_every_n_epochs': 1,\n",
       "  'validation_patience': 20}}"
      ]
     },
     "execution_count": 281,
     "metadata": {},
     "output_type": "execute_result"
    }
   ],
   "source": [
    "emb_config"
   ]
  },
  {
   "cell_type": "markdown",
   "metadata": {},
   "source": [
    "Initializing bot component config:"
   ]
  },
  {
   "cell_type": "code",
   "execution_count": 279,
   "metadata": {
    "collapsed": true
   },
   "outputs": [],
   "source": [
    "bot_with_embedder_comp_config = copy.deepcopy(bot_with_db_comp_config)\n",
    "\n",
    "bot_with_embedder_comp_config['network_parameters']['load_path'] = 'gobot_dstc2_emb/model'\n",
    "bot_with_embedder_comp_config['network_parameters']['save_path'] = 'gobot_dstc2_emb/model'"
   ]
  },
  {
   "cell_type": "code",
   "execution_count": 280,
   "metadata": {},
   "outputs": [
    {
     "data": {
      "text/plain": [
       "{'api_call_action': 'api_call',\n",
       " 'bow_embedder': {'name': 'bow'},\n",
       " 'database': '#restaurant_database',\n",
       " 'debug': False,\n",
       " 'embedder': '#my_embedder',\n",
       " 'in': ['x'],\n",
       " 'in_y': ['y'],\n",
       " 'main': True,\n",
       " 'name': 'go_bot',\n",
       " 'network_parameters': {'attention_mechanism': None,\n",
       "  'dense_size': 64,\n",
       "  'hidden_size': 128,\n",
       "  'learning_rate': 0.002,\n",
       "  'load_path': 'gobot_dstc2_emb/model',\n",
       "  'save_path': 'gobot_dstc2_emb/model'},\n",
       " 'out': ['y_predicted'],\n",
       " 'slot_filler': {'config_path': '/home/temkahap/Рабочий стол/CISS/DeepPavlov/deeppavlov/../deeppavlov/configs/ner/slotfill_dstc2.json'},\n",
       " 'template_path': 'dstc2_v2/dstc2-templates.txt',\n",
       " 'template_type': 'DualTemplate',\n",
       " 'tokenizer': {'lowercase': False, 'name': 'stream_spacy_tokenizer'},\n",
       " 'tracker': {'name': 'featurized_tracker',\n",
       "  'slot_names': ['pricerange', 'this', 'area', 'food', 'name']},\n",
       " 'word_vocab': '#token_vocab'}"
      ]
     },
     "execution_count": 280,
     "metadata": {},
     "output_type": "execute_result"
    }
   ],
   "source": [
    "# TODO: add #my_embedder to bot_with_embedder_comp_config\n",
    "bot_with_embedder_comp_config['embedder']= '#' + embedder_comp_config['id']\n",
    "#bot_comp_config\n",
    "bot_with_embedder_comp_config"
   ]
  },
  {
   "cell_type": "code",
   "execution_count": 283,
   "metadata": {
    "collapsed": true
   },
   "outputs": [
    {
     "data": {
      "text/plain": [
       "{'chainer': {'in': ['x'],\n",
       "  'in_y': ['y'],\n",
       "  'out': ['y_predicted'],\n",
       "  'pipe': [{'fit_on': ['x'],\n",
       "    'id': 'token_vocab',\n",
       "    'level': 'token',\n",
       "    'load_path': 'vocabs/token.dict',\n",
       "    'name': 'default_vocab',\n",
       "    'save_path': 'vocabs/token.dict',\n",
       "    'tokenizer': {'name': 'split_tokenizer'}},\n",
       "   {'dim': 100,\n",
       "    'id': 'my_embedder',\n",
       "    'load_path': 'embeddings/dstc2_fastText_model.bin',\n",
       "    'name': 'fasttext',\n",
       "    'save_path': 'embeddings/dstc2_fastText_model.bin'},\n",
       "   {'api_call_action': 'api_call',\n",
       "    'bow_embedder': {'name': 'bow'},\n",
       "    'database': '#restaurant_database',\n",
       "    'debug': False,\n",
       "    'embedder': '#my_embedder',\n",
       "    'in': ['x'],\n",
       "    'in_y': ['y'],\n",
       "    'main': True,\n",
       "    'name': 'go_bot',\n",
       "    'network_parameters': {'attention_mechanism': None,\n",
       "     'dense_size': 64,\n",
       "     'hidden_size': 128,\n",
       "     'learning_rate': 0.002,\n",
       "     'load_path': 'gobot_dstc2_emb/model',\n",
       "     'save_path': 'gobot_dstc2_emb/model'},\n",
       "    'out': ['y_predicted'],\n",
       "    'slot_filler': {'config_path': '/home/temkahap/Рабочий стол/CISS/DeepPavlov/deeppavlov/../deeppavlov/configs/ner/slotfill_dstc2.json'},\n",
       "    'template_path': 'dstc2_v2/dstc2-templates.txt',\n",
       "    'template_type': 'DualTemplate',\n",
       "    'tokenizer': {'lowercase': False, 'name': 'stream_spacy_tokenizer'},\n",
       "    'tracker': {'name': 'featurized_tracker',\n",
       "     'slot_names': ['pricerange', 'this', 'area', 'food', 'name']},\n",
       "    'word_vocab': '#token_vocab'}]},\n",
       " 'dataset_iterator': {'name': 'dialog_iterator'},\n",
       " 'dataset_reader': {'data_path': 'dstc2_v2', 'name': 'dstc2_v2_reader'},\n",
       " 'metadata': {'download': [{'subdir': 'dstc2_v2',\n",
       "    'url': 'http://lnsigo.mipt.ru/export/datasets/dstc2_v2.tar.gz'}]},\n",
       " 'train': {'batch_size': 4,\n",
       "  'epochs': 2,\n",
       "  'log_every_n_batches': -1,\n",
       "  'log_every_n_epochs': 1,\n",
       "  'metrics': ['per_item_dialog_accuracy'],\n",
       "  'val_every_n_epochs': 1,\n",
       "  'validation_patience': 20}}"
      ]
     },
     "execution_count": 283,
     "metadata": {},
     "output_type": "execute_result"
    }
   ],
   "source": [
    "# TODO: add bot_with_embedder_comp_config to chainer pipe\n",
    "emb_config['chainer']['pipe'].append(bot_with_embedder_comp_config)\n"
   ]
  },
  {
   "cell_type": "markdown",
   "metadata": {},
   "source": [
    "These are download urls for new required data:"
   ]
  },
  {
   "cell_type": "code",
   "execution_count": 285,
   "metadata": {
    "collapsed": true
   },
   "outputs": [],
   "source": [
    "embedder_required_data = {\n",
    "    'url': 'http://lnsigo.mipt.ru/export/deeppavlov_data/embeddings/dstc2_fastText_model.bin',\n",
    "    'subdir': 'embeddings'\n",
    "}"
   ]
  },
  {
   "cell_type": "code",
   "execution_count": 290,
   "metadata": {},
   "outputs": [],
   "source": [
    "# TODO: add embedder download info to emb_config['metadata']\n",
    "emb_config['metadata']['download'].append(embedder_required_data)"
   ]
  },
  {
   "cell_type": "code",
   "execution_count": 291,
   "metadata": {
    "collapsed": true
   },
   "outputs": [],
   "source": [
    "json.dump(emb_config, open(\"gobot/emb_config.json\", 'wt'))"
   ]
  },
  {
   "cell_type": "markdown",
   "metadata": {},
   "source": [
    "As far as we are now using embeddings, we added a file named `dstc2_fastText_model.bin` to `metadata.download` section. \n",
    "\n",
    "Let's run data loading again."
   ]
  },
  {
   "cell_type": "code",
   "execution_count": 292,
   "metadata": {},
   "outputs": [
    {
     "name": "stderr",
     "output_type": "stream",
     "text": [
      "2018-07-05 17:30:35.515 INFO in 'deeppavlov.download'['download'] at line 142: Downloading...\n",
      "2018-07-05 17:30:35.521 DEBUG in 'urllib3.connectionpool'['connectionpool'] at line 208: Starting new HTTP connection (1): lnsigo.mipt.ru\n",
      "2018-07-05 17:30:35.778 DEBUG in 'urllib3.connectionpool'['connectionpool'] at line 396: http://lnsigo.mipt.ru:80 \"GET /export/datasets/dstc2_v2.tar.gz HTTP/1.1\" 200 506300\n",
      "2018-07-05 17:30:35.787 INFO in 'deeppavlov.core.data.utils'['utils'] at line 65: Downloading from http://lnsigo.mipt.ru/export/datasets/dstc2_v2.tar.gz to /home/temkahap/Рабочий стол/CISS/DeepPavlov/download/dstc2_v2.tar.gz\n",
      "100%|██████████| 506k/506k [00:03<00:00, 137kB/s] \n",
      "2018-07-05 17:30:39.503 INFO in 'deeppavlov.core.data.utils'['utils'] at line 149: Extracting /home/temkahap/Рабочий стол/CISS/DeepPavlov/download/dstc2_v2.tar.gz archive into /home/temkahap/Рабочий стол/CISS/DeepPavlov/download/dstc2_v2\n",
      "2018-07-05 17:30:39.575 DEBUG in 'urllib3.connectionpool'['connectionpool'] at line 208: Starting new HTTP connection (1): lnsigo.mipt.ru\n",
      "2018-07-05 17:30:39.740 DEBUG in 'urllib3.connectionpool'['connectionpool'] at line 396: http://lnsigo.mipt.ru:80 \"GET /export/deeppavlov_data/embeddings/dstc2_fastText_model.bin HTTP/1.1\" 200 800203996\n",
      "2018-07-05 17:30:39.747 INFO in 'deeppavlov.core.data.utils'['utils'] at line 65: Downloading from http://lnsigo.mipt.ru/export/deeppavlov_data/embeddings/dstc2_fastText_model.bin to /home/temkahap/Рабочий стол/CISS/DeepPavlov/download/embeddings/dstc2_fastText_model.bin\n",
      "100%|██████████| 800M/800M [29:28<00:00, 452kB/s]    \n",
      "2018-07-05 18:00:08.235 DEBUG in 'urllib3.connectionpool'['connectionpool'] at line 208: Starting new HTTP connection (1): lnsigo.mipt.ru\n",
      "2018-07-05 18:00:08.366 DEBUG in 'urllib3.connectionpool'['connectionpool'] at line 396: http://lnsigo.mipt.ru:80 \"GET /export/deeppavlov_data/slotfill_dstc2.tar.gz HTTP/1.1\" 200 640674\n",
      "2018-07-05 18:00:08.368 INFO in 'deeppavlov.core.data.utils'['utils'] at line 65: Downloading from http://lnsigo.mipt.ru/export/deeppavlov_data/slotfill_dstc2.tar.gz to /home/temkahap/Рабочий стол/CISS/DeepPavlov/slotfill_dstc2.tar.gz\n",
      "100%|██████████| 641k/641k [00:02<00:00, 316kB/s] \n",
      "2018-07-05 18:00:10.403 INFO in 'deeppavlov.core.data.utils'['utils'] at line 149: Extracting /home/temkahap/Рабочий стол/CISS/DeepPavlov/slotfill_dstc2.tar.gz archive into /home/temkahap/Рабочий стол/CISS/DeepPavlov/download\n",
      "2018-07-05 18:00:10.420 INFO in 'deeppavlov.download'['download'] at line 144: \n",
      "Download successful!\n"
     ]
    }
   ],
   "source": [
    "deep_download(['--config', 'gobot/emb_config.json'])"
   ]
  },
  {
   "cell_type": "code",
   "execution_count": 293,
   "metadata": {},
   "outputs": [
    {
     "name": "stderr",
     "output_type": "stream",
     "text": [
      "2018-07-05 18:00:10.429 INFO in 'deeppavlov.dataset_readers.dstc2_reader'['dstc2_reader'] at line 214: [loading dialogs from /home/temkahap/Рабочий стол/CISS/DeepPavlov/download/dstc2_v2/dstc2-trn.jsonlist]\n",
      "2018-07-05 18:00:10.680 INFO in 'deeppavlov.dataset_readers.dstc2_reader'['dstc2_reader'] at line 214: [loading dialogs from /home/temkahap/Рабочий стол/CISS/DeepPavlov/download/dstc2_v2/dstc2-val.jsonlist]\n",
      "2018-07-05 18:00:11.287 INFO in 'deeppavlov.dataset_readers.dstc2_reader'['dstc2_reader'] at line 214: [loading dialogs from /home/temkahap/Рабочий стол/CISS/DeepPavlov/download/dstc2_v2/dstc2-tst.jsonlist]\n",
      "2018-07-05 18:00:11.493 INFO in 'deeppavlov.core.data.vocab'['vocab'] at line 162: [loading vocabulary from /home/temkahap/Рабочий стол/CISS/DeepPavlov/download/vocabs/token.dict]\n",
      "2018-07-05 18:00:11.525 INFO in 'deeppavlov.core.data.vocab'['vocab'] at line 150: [saving vocabulary to /home/temkahap/Рабочий стол/CISS/DeepPavlov/download/vocabs/token.dict]\n",
      "2018-07-05 18:00:11.527 INFO in 'deeppavlov.models.embedders.fasttext_embedder'['fasttext_embedder'] at line 69: [loading embeddings from `/home/temkahap/Рабочий стол/CISS/DeepPavlov/download/embeddings/dstc2_fastText_model.bin`]\n",
      "2018-07-05 18:00:12.813 INFO in 'deeppavlov.core.data.simple_vocab'['simple_vocab'] at line 94: [loading vocabulary from /home/temkahap/Рабочий стол/CISS/DeepPavlov/download/slotfill_dstc2/word.dict]\n",
      "2018-07-05 18:00:12.824 INFO in 'deeppavlov.core.data.simple_vocab'['simple_vocab'] at line 94: [loading vocabulary from /home/temkahap/Рабочий стол/CISS/DeepPavlov/download/slotfill_dstc2/tag.dict]\n",
      "2018-07-05 18:00:14.98 INFO in 'deeppavlov.core.models.tf_model'['tf_model'] at line 40: [loading model from /home/temkahap/Рабочий стол/CISS/DeepPavlov/download/slotfill_dstc2/model]\n"
     ]
    },
    {
     "name": "stdout",
     "output_type": "stream",
     "text": [
      "INFO:tensorflow:Restoring parameters from /home/temkahap/Рабочий стол/CISS/DeepPavlov/download/slotfill_dstc2/model\n"
     ]
    },
    {
     "name": "stderr",
     "output_type": "stream",
     "text": [
      "2018-07-05 18:00:14.115 INFO in 'tensorflow'['tf_logging'] at line 116: Restoring parameters from /home/temkahap/Рабочий стол/CISS/DeepPavlov/download/slotfill_dstc2/model\n",
      "2018-07-05 18:00:14.559 WARNING in 'deeppavlov.core.models.serializable'['serializable'] at line 56: No load path is set for GoalOrientedBot!\n",
      "2018-07-05 18:00:14.560 INFO in 'deeppavlov.skills.go_bot.bot'['bot'] at line 69: [loading templates from /home/temkahap/Рабочий стол/CISS/DeepPavlov/download/dstc2_v2/dstc2-templates.txt]\n",
      "2018-07-05 18:00:14.561 INFO in 'deeppavlov.skills.go_bot.bot'['bot'] at line 72: 46 templates loaded\n",
      "2018-07-05 18:00:14.562 INFO in 'deeppavlov.skills.go_bot.bot'['bot'] at line 96: Calculated input size for `GoalOrientedBotNetwork` is 611\n",
      "2018-07-05 18:00:15.278 INFO in 'deeppavlov.skills.go_bot.network'['network'] at line 55: [initializing `GoalOrientedBotNetwork` from scratch]\n",
      "2018-07-05 18:01:14.976 INFO in 'deeppavlov.skills.go_bot.network'['network'] at line 315: Updating global step, learning rate = 0.002000.\n"
     ]
    },
    {
     "name": "stdout",
     "output_type": "stream",
     "text": [
      "{\"train\": {\"epochs_done\": 1, \"batches_seen\": 242, \"train_examples_seen\": 967, \"metrics\": {\"per_item_dialog_accuracy\": 0.3921}, \"time_spent\": \"0:01:00\"}}\n"
     ]
    },
    {
     "name": "stderr",
     "output_type": "stream",
     "text": [
      "2018-07-05 18:01:36.544 INFO in 'deeppavlov.core.commands.train'['train'] at line 343: New best per_item_dialog_accuracy of 0.4564\n",
      "2018-07-05 18:01:36.544 INFO in 'deeppavlov.core.commands.train'['train'] at line 345: Saving model\n",
      "2018-07-05 18:01:36.545 INFO in 'deeppavlov.core.models.tf_model'['tf_model'] at line 49: [saving model to /home/temkahap/Рабочий стол/CISS/DeepPavlov/download/gobot_dstc2_emb/model]\n",
      "2018-07-05 18:01:36.672 INFO in 'deeppavlov.skills.go_bot.network'['network'] at line 297: [saving parameters to /home/temkahap/Рабочий стол/CISS/DeepPavlov/download/gobot_dstc2_emb/model.json]\n"
     ]
    },
    {
     "name": "stdout",
     "output_type": "stream",
     "text": [
      "{\"valid\": {\"eval_examples_count\": 575, \"metrics\": {\"per_item_dialog_accuracy\": 0.4564}, \"time_spent\": \"0:01:22\", \"epochs_done\": 1, \"batches_seen\": 242, \"train_examples_seen\": 967, \"impatience\": 0, \"patience_limit\": 20}}\n"
     ]
    },
    {
     "name": "stderr",
     "output_type": "stream",
     "text": [
      "2018-07-05 18:02:32.980 INFO in 'deeppavlov.skills.go_bot.network'['network'] at line 315: Updating global step, learning rate = 0.002000.\n"
     ]
    },
    {
     "name": "stdout",
     "output_type": "stream",
     "text": [
      "{\"train\": {\"epochs_done\": 2, \"batches_seen\": 484, \"train_examples_seen\": 1934, \"metrics\": {\"per_item_dialog_accuracy\": 0.5628}, \"time_spent\": \"0:02:18\"}}\n"
     ]
    },
    {
     "name": "stderr",
     "output_type": "stream",
     "text": [
      "2018-07-05 18:02:53.465 INFO in 'deeppavlov.core.commands.train'['train'] at line 343: New best per_item_dialog_accuracy of 0.4901\n",
      "2018-07-05 18:02:53.466 INFO in 'deeppavlov.core.commands.train'['train'] at line 345: Saving model\n",
      "2018-07-05 18:02:53.467 INFO in 'deeppavlov.core.models.tf_model'['tf_model'] at line 49: [saving model to /home/temkahap/Рабочий стол/CISS/DeepPavlov/download/gobot_dstc2_emb/model]\n",
      "2018-07-05 18:02:53.569 INFO in 'deeppavlov.skills.go_bot.network'['network'] at line 297: [saving parameters to /home/temkahap/Рабочий стол/CISS/DeepPavlov/download/gobot_dstc2_emb/model.json]\n",
      "2018-07-05 18:02:53.575 INFO in 'deeppavlov.core.data.vocab'['vocab'] at line 162: [loading vocabulary from /home/temkahap/Рабочий стол/CISS/DeepPavlov/download/vocabs/token.dict]\n",
      "2018-07-05 18:02:53.577 INFO in 'deeppavlov.models.embedders.fasttext_embedder'['fasttext_embedder'] at line 69: [loading embeddings from `/home/temkahap/Рабочий стол/CISS/DeepPavlov/download/embeddings/dstc2_fastText_model.bin`]\n"
     ]
    },
    {
     "name": "stdout",
     "output_type": "stream",
     "text": [
      "{\"valid\": {\"eval_examples_count\": 575, \"metrics\": {\"per_item_dialog_accuracy\": 0.4901}, \"time_spent\": \"0:02:39\", \"epochs_done\": 2, \"batches_seen\": 484, \"train_examples_seen\": 1934, \"impatience\": 0, \"patience_limit\": 20}}\n"
     ]
    },
    {
     "name": "stderr",
     "output_type": "stream",
     "text": [
      "2018-07-05 18:02:54.560 WARNING in 'deeppavlov.core.commands.infer'['infer'] at line 41: No \"save_path\" parameter for the go_bot component, so \"load_path\" will not be renewed\n",
      "2018-07-05 18:02:54.564 INFO in 'deeppavlov.core.data.simple_vocab'['simple_vocab'] at line 94: [loading vocabulary from /home/temkahap/Рабочий стол/CISS/DeepPavlov/download/slotfill_dstc2/word.dict]\n",
      "2018-07-05 18:02:54.574 INFO in 'deeppavlov.core.data.simple_vocab'['simple_vocab'] at line 94: [loading vocabulary from /home/temkahap/Рабочий стол/CISS/DeepPavlov/download/slotfill_dstc2/tag.dict]\n",
      "2018-07-05 18:02:55.349 INFO in 'deeppavlov.core.models.tf_model'['tf_model'] at line 40: [loading model from /home/temkahap/Рабочий стол/CISS/DeepPavlov/download/slotfill_dstc2/model]\n"
     ]
    },
    {
     "name": "stdout",
     "output_type": "stream",
     "text": [
      "INFO:tensorflow:Restoring parameters from /home/temkahap/Рабочий стол/CISS/DeepPavlov/download/slotfill_dstc2/model\n"
     ]
    },
    {
     "name": "stderr",
     "output_type": "stream",
     "text": [
      "2018-07-05 18:02:55.368 INFO in 'tensorflow'['tf_logging'] at line 116: Restoring parameters from /home/temkahap/Рабочий стол/CISS/DeepPavlov/download/slotfill_dstc2/model\n",
      "2018-07-05 18:02:55.799 WARNING in 'deeppavlov.core.models.serializable'['serializable'] at line 56: No load path is set for GoalOrientedBot!\n",
      "2018-07-05 18:02:55.800 INFO in 'deeppavlov.skills.go_bot.bot'['bot'] at line 69: [loading templates from /home/temkahap/Рабочий стол/CISS/DeepPavlov/download/dstc2_v2/dstc2-templates.txt]\n",
      "2018-07-05 18:02:55.801 INFO in 'deeppavlov.skills.go_bot.bot'['bot'] at line 72: 46 templates loaded\n",
      "2018-07-05 18:02:55.805 INFO in 'deeppavlov.skills.go_bot.bot'['bot'] at line 96: Calculated input size for `GoalOrientedBotNetwork` is 611\n",
      "2018-07-05 18:02:56.858 INFO in 'deeppavlov.skills.go_bot.network'['network'] at line 52: [initializing `GoalOrientedBotNetwork` from saved]\n",
      "2018-07-05 18:02:56.859 INFO in 'deeppavlov.skills.go_bot.network'['network'] at line 303: [loading parameters from /home/temkahap/Рабочий стол/CISS/DeepPavlov/download/gobot_dstc2_emb/model.json]\n",
      "2018-07-05 18:02:56.862 INFO in 'deeppavlov.core.models.tf_model'['tf_model'] at line 40: [loading model from /home/temkahap/Рабочий стол/CISS/DeepPavlov/download/gobot_dstc2_emb/model]\n"
     ]
    },
    {
     "name": "stdout",
     "output_type": "stream",
     "text": [
      "INFO:tensorflow:Restoring parameters from /home/temkahap/Рабочий стол/CISS/DeepPavlov/download/gobot_dstc2_emb/model\n"
     ]
    },
    {
     "name": "stderr",
     "output_type": "stream",
     "text": [
      "2018-07-05 18:02:56.876 INFO in 'tensorflow'['tf_logging'] at line 116: Restoring parameters from /home/temkahap/Рабочий стол/CISS/DeepPavlov/download/gobot_dstc2_emb/model\n",
      "2018-07-05 18:02:56.947 INFO in 'deeppavlov.core.commands.train'['train'] at line 174: Testing the best saved model\n"
     ]
    },
    {
     "name": "stdout",
     "output_type": "stream",
     "text": [
      "{\"valid\": {\"eval_examples_count\": 575, \"metrics\": {\"per_item_dialog_accuracy\": 0.49}, \"time_spent\": \"0:00:21\"}}\n",
      "{\"test\": {\"eval_examples_count\": 576, \"metrics\": {\"per_item_dialog_accuracy\": 0.4881}, \"time_spent\": \"0:00:21\"}}\n"
     ]
    }
   ],
   "source": [
    "train_evaluate_model_from_config(\"gobot/emb_config.json\")"
   ]
  },
  {
   "cell_type": "code",
   "execution_count": 294,
   "metadata": {},
   "outputs": [
    {
     "name": "stderr",
     "output_type": "stream",
     "text": [
      "2018-07-05 18:03:37.910 INFO in 'deeppavlov.core.data.vocab'['vocab'] at line 162: [loading vocabulary from /home/temkahap/Рабочий стол/CISS/DeepPavlov/download/vocabs/token.dict]\n",
      "2018-07-05 18:03:37.914 INFO in 'deeppavlov.models.embedders.fasttext_embedder'['fasttext_embedder'] at line 69: [loading embeddings from `/home/temkahap/Рабочий стол/CISS/DeepPavlov/download/embeddings/dstc2_fastText_model.bin`]\n",
      "2018-07-05 18:03:38.923 INFO in 'deeppavlov.core.data.simple_vocab'['simple_vocab'] at line 94: [loading vocabulary from /home/temkahap/Рабочий стол/CISS/DeepPavlov/download/slotfill_dstc2/word.dict]\n",
      "2018-07-05 18:03:38.928 INFO in 'deeppavlov.core.data.simple_vocab'['simple_vocab'] at line 94: [loading vocabulary from /home/temkahap/Рабочий стол/CISS/DeepPavlov/download/slotfill_dstc2/tag.dict]\n",
      "2018-07-05 18:03:39.691 INFO in 'deeppavlov.core.models.tf_model'['tf_model'] at line 40: [loading model from /home/temkahap/Рабочий стол/CISS/DeepPavlov/download/slotfill_dstc2/model]\n"
     ]
    },
    {
     "name": "stdout",
     "output_type": "stream",
     "text": [
      "INFO:tensorflow:Restoring parameters from /home/temkahap/Рабочий стол/CISS/DeepPavlov/download/slotfill_dstc2/model\n"
     ]
    },
    {
     "name": "stderr",
     "output_type": "stream",
     "text": [
      "2018-07-05 18:03:39.710 INFO in 'tensorflow'['tf_logging'] at line 116: Restoring parameters from /home/temkahap/Рабочий стол/CISS/DeepPavlov/download/slotfill_dstc2/model\n",
      "2018-07-05 18:03:40.132 WARNING in 'deeppavlov.core.models.serializable'['serializable'] at line 56: No load path is set for GoalOrientedBot!\n",
      "2018-07-05 18:03:40.132 INFO in 'deeppavlov.skills.go_bot.bot'['bot'] at line 69: [loading templates from /home/temkahap/Рабочий стол/CISS/DeepPavlov/download/dstc2_v2/dstc2-templates.txt]\n",
      "2018-07-05 18:03:40.134 INFO in 'deeppavlov.skills.go_bot.bot'['bot'] at line 72: 46 templates loaded\n",
      "2018-07-05 18:03:40.134 INFO in 'deeppavlov.skills.go_bot.bot'['bot'] at line 96: Calculated input size for `GoalOrientedBotNetwork` is 611\n",
      "2018-07-05 18:03:40.792 INFO in 'deeppavlov.skills.go_bot.network'['network'] at line 52: [initializing `GoalOrientedBotNetwork` from saved]\n",
      "2018-07-05 18:03:40.792 INFO in 'deeppavlov.skills.go_bot.network'['network'] at line 303: [loading parameters from /home/temkahap/Рабочий стол/CISS/DeepPavlov/download/gobot_dstc2_emb/model.json]\n",
      "2018-07-05 18:03:40.795 INFO in 'deeppavlov.core.models.tf_model'['tf_model'] at line 40: [loading model from /home/temkahap/Рабочий стол/CISS/DeepPavlov/download/gobot_dstc2_emb/model]\n"
     ]
    },
    {
     "name": "stdout",
     "output_type": "stream",
     "text": [
      "INFO:tensorflow:Restoring parameters from /home/temkahap/Рабочий стол/CISS/DeepPavlov/download/gobot_dstc2_emb/model\n"
     ]
    },
    {
     "name": "stderr",
     "output_type": "stream",
     "text": [
      "2018-07-05 18:03:40.806 INFO in 'tensorflow'['tf_logging'] at line 116: Restoring parameters from /home/temkahap/Рабочий стол/CISS/DeepPavlov/download/gobot_dstc2_emb/model\n"
     ]
    }
   ],
   "source": [
    "model = build_model_from_config(emb_config)"
   ]
  },
  {
   "cell_type": "code",
   "execution_count": null,
   "metadata": {},
   "outputs": [
    {
     "name": "stdout",
     "output_type": "stream",
     "text": [
      ">> Hello, welcome to the Cambridge restaurant system. You can ask for restaurants by area, price range or food type. How may I help you?\n",
      ":: Italian restaurant\n",
      ">> Hello, welcome to the Cambridge restaurant system. You can ask for restaurants by area, price range or food type. How may I help you?\n",
      ":: hello\n",
      ">> Hello, welcome to the Cambridge restaurant system. You can ask for restaurants by area, price range or food type. How may I help you?\n"
     ]
    }
   ],
   "source": [
    "# if the cell is running, please do not run other cells in parallel -- there is a possibility of a hangup\n",
    "\n",
    "model.reset() # starting new dialog\n",
    "\n",
    "utterance = \"\"\n",
    "while utterance != 'exit':\n",
    "    print(\">> \" + model([utterance])[0])\n",
    "    utterance = input(':: ')"
   ]
  },
  {
   "cell_type": "markdown",
   "metadata": {},
   "source": [
    "## Appendix _(optional)_"
   ]
  },
  {
   "cell_type": "markdown",
   "metadata": {},
   "source": [
    "### Additional materials"
   ]
  },
  {
   "cell_type": "markdown",
   "metadata": {},
   "source": [
    "- [DataFest Presentation (RU)](https://docs.google.com/presentation/d/1PBPQp-wgQ6aRbm3MsuyGYB_TVg2c7Bf89lhdhbMtC2k)\n",
    "- [Video Lecture \"Hybrid dialog bot\" (RU)](http://www.youtube.com/watch?v=JJCO7eWCy-M&t=331m19s)\n",
    "- [Video Lecture \"What's inside a dialog system?\" (RU)](http://www.youtube.com/watch?v=JJCO7eWCy-M&t=259m55s)"
   ]
  },
  {
   "cell_type": "markdown",
   "metadata": {},
   "source": [
    "### Model `gobot_dstc2_full`"
   ]
  },
  {
   "cell_type": "markdown",
   "metadata": {},
   "source": [
    "Now let's train a very smart goal-oriented bot that uses an attention mechanism over input embeddings \n",
    "\n",
    "(see https://medium.com/syncedreview/a-brief-overview-of-attention-mechanism-13c578ba9129 for more details):"
   ]
  },
  {
   "cell_type": "markdown",
   "metadata": {},
   "source": [
    "Initializing new config:"
   ]
  },
  {
   "cell_type": "code",
   "execution_count": 118,
   "metadata": {
    "collapsed": true
   },
   "outputs": [],
   "source": [
    "emb_config = json.load(open(\"gobot/emb_config.json\", 'rt'))\n",
    "\n",
    "full_config = copy.deepcopy(emb_config)\n",
    "full_config['chainer']['pipe'] = [\n",
    "    vocab_comp_config,\n",
    "    db_comp_config,\n",
    "    embedder_comp_config\n",
    "]"
   ]
  },
  {
   "cell_type": "markdown",
   "metadata": {},
   "source": [
    "Initializing bot component config:"
   ]
  },
  {
   "cell_type": "code",
   "execution_count": 119,
   "metadata": {
    "collapsed": true
   },
   "outputs": [],
   "source": [
    "bot_with_emb_comp_config = emb_config['chainer']['pipe'][-1]\n",
    "bot_with_attn_comp_config = copy.deepcopy(bot_with_emb_comp_config)\n",
    "\n",
    "bot_with_attn_comp_config['network_parameters']['load_path'] = 'gobot_dstc2_full/model'\n",
    "bot_with_attn_comp_config['network_parameters']['save_path'] = 'gobot_dstc2_full/model'"
   ]
  },
  {
   "cell_type": "markdown",
   "metadata": {},
   "source": [
    "Adding attention mechanism to bot:"
   ]
  },
  {
   "cell_type": "code",
   "execution_count": 120,
   "metadata": {
    "collapsed": true
   },
   "outputs": [],
   "source": [
    "attention_mechanism_config = {\n",
    "    'action_as_key': True,\n",
    "    'depth': 3,\n",
    "    'hidden_size': 32,\n",
    "    'max_num_tokens': 100,\n",
    "    'projected_align': False,\n",
    "    'type': 'cs_bahdanau'\n",
    "}"
   ]
  },
  {
   "cell_type": "code",
   "execution_count": 121,
   "metadata": {
    "collapsed": true
   },
   "outputs": [],
   "source": [
    "bot_with_attn_comp_config['network_parameters']['attention_mechanism'] = attention_mechanism_config"
   ]
  },
  {
   "cell_type": "markdown",
   "metadata": {},
   "source": [
    "Adding bot component to pipe:"
   ]
  },
  {
   "cell_type": "code",
   "execution_count": 122,
   "metadata": {
    "collapsed": true
   },
   "outputs": [],
   "source": [
    "full_config['chainer']['pipe'].append(bot_with_attn_comp_config)"
   ]
  },
  {
   "cell_type": "code",
   "execution_count": 123,
   "metadata": {
    "collapsed": true
   },
   "outputs": [],
   "source": [
    "json.dump(full_config, open(\"gobot/full_config.json\", 'wt'))"
   ]
  },
  {
   "cell_type": "code",
   "execution_count": null,
   "metadata": {
    "collapsed": true
   },
   "outputs": [],
   "source": [
    "train_evaluate_model_from_config(\"gobot/full_config.json\")"
   ]
  },
  {
   "cell_type": "code",
   "execution_count": null,
   "metadata": {
    "collapsed": true
   },
   "outputs": [],
   "source": [
    "model = build_model_from_config(full_config)"
   ]
  },
  {
   "cell_type": "code",
   "execution_count": null,
   "metadata": {
    "collapsed": true
   },
   "outputs": [],
   "source": [
    "# if the cell is running, please do not run other cells in parallel -- there is a possibility of a hangup\n",
    "\n",
    "model.reset() # starting new dialog\n",
    "\n",
    "utterance = \"\"\n",
    "while utterance != 'exit':\n",
    "    print(\">> \" + model([utterance])[0])\n",
    "    utterance = input(':: ')"
   ]
  },
  {
   "cell_type": "markdown",
   "metadata": {},
   "source": [
    "### Another way of training and infering a component"
   ]
  },
  {
   "cell_type": "markdown",
   "metadata": {},
   "source": [
    "Let's build response token vocabulary, but do it without using deeppavlov scripts (without `train_evaluate_model_from_config` and `build_model_from_config`)."
   ]
  },
  {
   "cell_type": "code",
   "execution_count": 160,
   "metadata": {
    "collapsed": true
   },
   "outputs": [],
   "source": [
    "from deeppavlov.core.data.vocab import DefaultVocabulary\n",
    "from deeppavlov.dataset_readers.dstc2_reader import DSTC2Version2DatasetReader\n",
    "from deeppavlov.dataset_iterators.dialog_iterator import DialogDatasetIterator"
   ]
  },
  {
   "cell_type": "markdown",
   "metadata": {},
   "source": [
    "Initializing a `DefaultVocabulary` class:"
   ]
  },
  {
   "cell_type": "code",
   "execution_count": 161,
   "metadata": {
    "collapsed": true
   },
   "outputs": [],
   "source": [
    "y_vocab = DefaultVocabulary(level='token', \n",
    "                            load_path='vocabs/y_token.dict', # path is relative to DEEPPAVLOV_ROOT/../download/ \n",
    "                            save_path='vocabs/y_token.dict',\n",
    "                            tokenizer=lambda s_batch: [s.split() for s in s_batch])"
   ]
  },
  {
   "cell_type": "markdown",
   "metadata": {},
   "source": [
    "Important methods of any trained component are:\n",
    "\n",
    "   - **\\_\\_init\\_\\_(self, *args, *\\*kwargs)**\n",
    "     - intializes a class instance\n",
    "\n",
    "   - **fit(self, data, *args)** or **train_on_batch(self, batch, *args)**\n",
    "     - fits on full data or makes one training step on a batch of data\n",
    "\n",
    "   - **\\_\\_call\\_\\_(self, batch, \\*\\*kwargs)**\n",
    "     - makes prediction (or infers) for each sample in a batch"
   ]
  },
  {
   "cell_type": "markdown",
   "metadata": {},
   "source": [
    "Getting batches of data:"
   ]
  },
  {
   "cell_type": "code",
   "execution_count": 162,
   "metadata": {},
   "outputs": [
    {
     "name": "stderr",
     "output_type": "stream",
     "text": [
      "2018-07-05 16:53:42.967 INFO in 'deeppavlov.dataset_readers.dstc2_reader'['dstc2_reader'] at line 214: [loading dialogs from tmp/my_download_of_dstc2/dstc2-trn.jsonlist]\n",
      "2018-07-05 16:53:43.589 INFO in 'deeppavlov.dataset_readers.dstc2_reader'['dstc2_reader'] at line 214: [loading dialogs from tmp/my_download_of_dstc2/dstc2-val.jsonlist]\n",
      "2018-07-05 16:53:43.710 INFO in 'deeppavlov.dataset_readers.dstc2_reader'['dstc2_reader'] at line 214: [loading dialogs from tmp/my_download_of_dstc2/dstc2-tst.jsonlist]\n"
     ]
    }
   ],
   "source": [
    "data = DSTC2Version2DatasetReader().read(data_path=\"tmp/my_download_of_dstc2\")\n",
    "data_samples = DialogDatasetIterator(data, seed=1443, shuffle=True).get_instances(data_type='all')\n",
    "x_list, y_list = data_samples"
   ]
  },
  {
   "cell_type": "markdown",
   "metadata": {},
   "source": [
    "Building vocabulary using y batches:"
   ]
  },
  {
   "cell_type": "code",
   "execution_count": 163,
   "metadata": {
    "collapsed": true
   },
   "outputs": [],
   "source": [
    "y_vocab.fit(y_list)"
   ]
  },
  {
   "cell_type": "markdown",
   "metadata": {},
   "source": [
    "Infering from (using) built vocabulary:"
   ]
  },
  {
   "cell_type": "code",
   "execution_count": 164,
   "metadata": {},
   "outputs": [
    {
     "data": {
      "text/plain": [
       "[43, 3, 26, 5, 0]"
      ]
     },
     "execution_count": 164,
     "metadata": {},
     "output_type": "execute_result"
    }
   ],
   "source": [
    "y_vocab(['is', 'the', 'of', 'restaurant', 'hi'])"
   ]
  },
  {
   "cell_type": "markdown",
   "metadata": {},
   "source": [
    "To call a model `x_vocab(batch)` is the same as to call a \\_\\_call\\_\\_ method `x_vocab.__call__(batch)`!"
   ]
  },
  {
   "cell_type": "code",
   "execution_count": 165,
   "metadata": {},
   "outputs": [
    {
     "data": {
      "text/plain": [
       "False"
      ]
     },
     "execution_count": 165,
     "metadata": {},
     "output_type": "execute_result"
    }
   ],
   "source": [
    "y_vocab(['hi']) == y_vocab.__call__(['hi']) == [141]"
   ]
  },
  {
   "cell_type": "code",
   "execution_count": null,
   "metadata": {
    "collapsed": true
   },
   "outputs": [],
   "source": []
  }
 ],
 "metadata": {
  "kernelspec": {
   "display_name": "Python 3",
   "language": "python",
   "name": "python3"
  },
  "language_info": {
   "codemirror_mode": {
    "name": "ipython",
    "version": 3
   },
   "file_extension": ".py",
   "mimetype": "text/x-python",
   "name": "python",
   "nbconvert_exporter": "python",
   "pygments_lexer": "ipython3",
   "version": "3.6.2"
  }
 },
 "nbformat": 4,
 "nbformat_minor": 2
}
